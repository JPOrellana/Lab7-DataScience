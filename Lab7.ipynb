{
 "cells": [
  {
   "cell_type": "markdown",
   "metadata": {},
   "source": [
    "# Data Science - Laboratorio 7\n",
    "## Minería de Texto: Análisis de redes sociales\n",
    "\n",
    "---\n",
    "### Integrantes:\n",
    "- Diego Alberto Leiva 21752\n",
    "- José Pablo Orellana 21970\n",
    "- - -"
   ]
  },
  {
   "cell_type": "markdown",
   "metadata": {},
   "source": [
    "## Librerias"
   ]
  },
  {
   "cell_type": "code",
   "execution_count": 1,
   "metadata": {},
   "outputs": [],
   "source": [
    "# Operaciones con datos\n",
    "import pandas as pd\n",
    "\n",
    "# Visualización de datos\n",
    "import matplotlib.pyplot as plt\n",
    "import seaborn as sns\n",
    "from wordcloud import WordCloud\n",
    "\n",
    "# Procesamiento de lenguaje natural\n",
    "import re\n",
    "import spacy\n",
    "import nltk\n",
    "from nltk.corpus import stopwords\n",
    "\n",
    "# Utilidades\n",
    "from collections import Counter"
   ]
  },
  {
   "cell_type": "markdown",
   "metadata": {},
   "source": [
    "## Conjuntos de datos"
   ]
  },
  {
   "cell_type": "markdown",
   "metadata": {},
   "source": [
    "Se recopilaron aproximadamente 5,000 tweets de la cuenta @traficogt y @BArevalodeLeon hasta el 12 de septiembre de 2024. Estos datos vienen en formato JSON con metadatos que incluyen el ID de usuario, texto del tweet, menciones, retweets, y número de favoritos, etc. Estos tweets reflejan las interacciones de los usuarios de la ciudad con relación a la situación del tráfico, o del presidente electo de Guatemala."
   ]
  },
  {
   "cell_type": "markdown",
   "metadata": {},
   "source": [
    "### Selección"
   ]
  },
  {
   "cell_type": "markdown",
   "metadata": {},
   "source": [
    "Para este análisis, se ha seleccionado el conjunto de datos proveniente exclusivamente de la cuenta @traficogt, con el objetivo de abordar preguntas clave como: \n",
    "- **¿Cómo ha impactado la temporada de lluvias en el tráfico de la ciudad?** \n",
    "- **¿Cuáles son las áreas más afectadas por la congestión vehicular?**\n",
    "- **¿En qué horarios se presentan los mayores atascos según los usuarios de la plataforma X (anteriormente Twitter)?**\n",
    "\n",
    "El tráfico es uno de los problemas más persistentes y visibles en la vida diaria de los habitantes de la ciudad. La congestión vehicular, exacerbada durante la temporada de lluvias, afecta tanto la movilidad como la calidad de vida de millones de personas. Este análisis permitirá no solo entender cómo las lluvias han complicado aún más el tráfico en la ciudad, sino también identificar patrones recurrentes en las zonas y horarios de mayor congestión. Esto podría ofrecer información útil para las autoridades y ciudadanos que buscan mitigar el impacto de estos problemas."
   ]
  },
  {
   "cell_type": "markdown",
   "metadata": {},
   "source": [
    "## Carga de Dataset"
   ]
  },
  {
   "cell_type": "code",
   "execution_count": 2,
   "metadata": {},
   "outputs": [],
   "source": [
    "traficogt_df = pd.read_json('data/traficogt.txt', lines=True, encoding='utf-8')"
   ]
  },
  {
   "cell_type": "markdown",
   "metadata": {},
   "source": [
    "## Comprensión Inicial"
   ]
  },
  {
   "cell_type": "markdown",
   "metadata": {},
   "source": [
    "### Información General del Dataset"
   ]
  },
  {
   "cell_type": "code",
   "execution_count": 3,
   "metadata": {},
   "outputs": [],
   "source": [
    "def get_DF_info(df):\n",
    "    \"\"\"\n",
    "    Función que genera un dataframe con información sobre las columnas de un dataframe dado.\n",
    "\n",
    "    Args:\n",
    "        df (pandas.DataFrame): El dataframe de entrada.\n",
    "        \n",
    "    Returns:\n",
    "        None\n",
    "    \"\"\"\n",
    "    # Crear un dataframe con la información de las columnas\n",
    "    info = pd.DataFrame({\n",
    "        'Nombre Columna': df.columns,\n",
    "        'Tipo de Dato': df.dtypes,\n",
    "        'Valores Nulos (%)': (df.isnull().sum() * 100 / df.shape[0]).round(2),\n",
    "        # Si la columna contiene dict o list, mostrar el tipo. Si no, calcular los valores únicos\n",
    "        'Valores Únicos': df.apply(lambda x: 'dict' if x.apply(lambda y: isinstance(y, dict)).any() else \n",
    "                                             ('list' if x.apply(lambda y: isinstance(y, list)).any() else x.nunique()))\n",
    "    }).reset_index(drop=True)\n",
    "\n",
    "    # Mostrar la información del DataFrame\n",
    "    print(f\"\\nEl DataFrame tiene {df.shape[0]} filas (registros) y {df.shape[1]} columnas (variables)\\n\")\n",
    "    display(info)"
   ]
  },
  {
   "cell_type": "code",
   "execution_count": 4,
   "metadata": {},
   "outputs": [
    {
     "name": "stdout",
     "output_type": "stream",
     "text": [
      "Información del dataset: traficogt.txt\n",
      "\n",
      "El DataFrame tiene 5605 filas (registros) y 32 columnas (variables)\n",
      "\n"
     ]
    },
    {
     "data": {
      "text/html": [
       "<div>\n",
       "<style scoped>\n",
       "    .dataframe tbody tr th:only-of-type {\n",
       "        vertical-align: middle;\n",
       "    }\n",
       "\n",
       "    .dataframe tbody tr th {\n",
       "        vertical-align: top;\n",
       "    }\n",
       "\n",
       "    .dataframe thead th {\n",
       "        text-align: right;\n",
       "    }\n",
       "</style>\n",
       "<table border=\"1\" class=\"dataframe\">\n",
       "  <thead>\n",
       "    <tr style=\"text-align: right;\">\n",
       "      <th></th>\n",
       "      <th>Nombre Columna</th>\n",
       "      <th>Tipo de Dato</th>\n",
       "      <th>Valores Nulos (%)</th>\n",
       "      <th>Valores Únicos</th>\n",
       "    </tr>\n",
       "  </thead>\n",
       "  <tbody>\n",
       "    <tr>\n",
       "      <th>0</th>\n",
       "      <td>id</td>\n",
       "      <td>int64</td>\n",
       "      <td>0.00</td>\n",
       "      <td>5597</td>\n",
       "    </tr>\n",
       "    <tr>\n",
       "      <th>1</th>\n",
       "      <td>id_str</td>\n",
       "      <td>int64</td>\n",
       "      <td>0.00</td>\n",
       "      <td>5597</td>\n",
       "    </tr>\n",
       "    <tr>\n",
       "      <th>2</th>\n",
       "      <td>url</td>\n",
       "      <td>object</td>\n",
       "      <td>0.00</td>\n",
       "      <td>5597</td>\n",
       "    </tr>\n",
       "    <tr>\n",
       "      <th>3</th>\n",
       "      <td>date</td>\n",
       "      <td>datetime64[ns, UTC]</td>\n",
       "      <td>0.00</td>\n",
       "      <td>5588</td>\n",
       "    </tr>\n",
       "    <tr>\n",
       "      <th>4</th>\n",
       "      <td>user</td>\n",
       "      <td>object</td>\n",
       "      <td>0.00</td>\n",
       "      <td>dict</td>\n",
       "    </tr>\n",
       "    <tr>\n",
       "      <th>5</th>\n",
       "      <td>lang</td>\n",
       "      <td>object</td>\n",
       "      <td>0.00</td>\n",
       "      <td>24</td>\n",
       "    </tr>\n",
       "    <tr>\n",
       "      <th>6</th>\n",
       "      <td>rawContent</td>\n",
       "      <td>object</td>\n",
       "      <td>0.00</td>\n",
       "      <td>5589</td>\n",
       "    </tr>\n",
       "    <tr>\n",
       "      <th>7</th>\n",
       "      <td>replyCount</td>\n",
       "      <td>int64</td>\n",
       "      <td>0.00</td>\n",
       "      <td>196</td>\n",
       "    </tr>\n",
       "    <tr>\n",
       "      <th>8</th>\n",
       "      <td>retweetCount</td>\n",
       "      <td>int64</td>\n",
       "      <td>0.00</td>\n",
       "      <td>350</td>\n",
       "    </tr>\n",
       "    <tr>\n",
       "      <th>9</th>\n",
       "      <td>likeCount</td>\n",
       "      <td>int64</td>\n",
       "      <td>0.00</td>\n",
       "      <td>502</td>\n",
       "    </tr>\n",
       "    <tr>\n",
       "      <th>10</th>\n",
       "      <td>quoteCount</td>\n",
       "      <td>int64</td>\n",
       "      <td>0.00</td>\n",
       "      <td>122</td>\n",
       "    </tr>\n",
       "    <tr>\n",
       "      <th>11</th>\n",
       "      <td>bookmarkedCount</td>\n",
       "      <td>int64</td>\n",
       "      <td>0.00</td>\n",
       "      <td>75</td>\n",
       "    </tr>\n",
       "    <tr>\n",
       "      <th>12</th>\n",
       "      <td>conversationId</td>\n",
       "      <td>int64</td>\n",
       "      <td>0.00</td>\n",
       "      <td>3184</td>\n",
       "    </tr>\n",
       "    <tr>\n",
       "      <th>13</th>\n",
       "      <td>conversationIdStr</td>\n",
       "      <td>int64</td>\n",
       "      <td>0.00</td>\n",
       "      <td>3184</td>\n",
       "    </tr>\n",
       "    <tr>\n",
       "      <th>14</th>\n",
       "      <td>hashtags</td>\n",
       "      <td>object</td>\n",
       "      <td>0.00</td>\n",
       "      <td>list</td>\n",
       "    </tr>\n",
       "    <tr>\n",
       "      <th>15</th>\n",
       "      <td>cashtags</td>\n",
       "      <td>object</td>\n",
       "      <td>0.00</td>\n",
       "      <td>list</td>\n",
       "    </tr>\n",
       "    <tr>\n",
       "      <th>16</th>\n",
       "      <td>mentionedUsers</td>\n",
       "      <td>object</td>\n",
       "      <td>0.00</td>\n",
       "      <td>list</td>\n",
       "    </tr>\n",
       "    <tr>\n",
       "      <th>17</th>\n",
       "      <td>links</td>\n",
       "      <td>object</td>\n",
       "      <td>0.00</td>\n",
       "      <td>list</td>\n",
       "    </tr>\n",
       "    <tr>\n",
       "      <th>18</th>\n",
       "      <td>viewCount</td>\n",
       "      <td>float64</td>\n",
       "      <td>0.07</td>\n",
       "      <td>1844</td>\n",
       "    </tr>\n",
       "    <tr>\n",
       "      <th>19</th>\n",
       "      <td>retweetedTweet</td>\n",
       "      <td>float64</td>\n",
       "      <td>100.00</td>\n",
       "      <td>0</td>\n",
       "    </tr>\n",
       "    <tr>\n",
       "      <th>20</th>\n",
       "      <td>quotedTweet</td>\n",
       "      <td>object</td>\n",
       "      <td>89.10</td>\n",
       "      <td>dict</td>\n",
       "    </tr>\n",
       "    <tr>\n",
       "      <th>21</th>\n",
       "      <td>place</td>\n",
       "      <td>object</td>\n",
       "      <td>99.29</td>\n",
       "      <td>dict</td>\n",
       "    </tr>\n",
       "    <tr>\n",
       "      <th>22</th>\n",
       "      <td>coordinates</td>\n",
       "      <td>float64</td>\n",
       "      <td>100.00</td>\n",
       "      <td>0</td>\n",
       "    </tr>\n",
       "    <tr>\n",
       "      <th>23</th>\n",
       "      <td>inReplyToTweetId</td>\n",
       "      <td>float64</td>\n",
       "      <td>28.78</td>\n",
       "      <td>2291</td>\n",
       "    </tr>\n",
       "    <tr>\n",
       "      <th>24</th>\n",
       "      <td>inReplyToTweetIdStr</td>\n",
       "      <td>float64</td>\n",
       "      <td>28.78</td>\n",
       "      <td>2291</td>\n",
       "    </tr>\n",
       "    <tr>\n",
       "      <th>25</th>\n",
       "      <td>inReplyToUser</td>\n",
       "      <td>object</td>\n",
       "      <td>25.94</td>\n",
       "      <td>dict</td>\n",
       "    </tr>\n",
       "    <tr>\n",
       "      <th>26</th>\n",
       "      <td>source</td>\n",
       "      <td>object</td>\n",
       "      <td>0.00</td>\n",
       "      <td>18</td>\n",
       "    </tr>\n",
       "    <tr>\n",
       "      <th>27</th>\n",
       "      <td>sourceUrl</td>\n",
       "      <td>object</td>\n",
       "      <td>0.00</td>\n",
       "      <td>18</td>\n",
       "    </tr>\n",
       "    <tr>\n",
       "      <th>28</th>\n",
       "      <td>sourceLabel</td>\n",
       "      <td>object</td>\n",
       "      <td>0.00</td>\n",
       "      <td>18</td>\n",
       "    </tr>\n",
       "    <tr>\n",
       "      <th>29</th>\n",
       "      <td>media</td>\n",
       "      <td>object</td>\n",
       "      <td>0.00</td>\n",
       "      <td>dict</td>\n",
       "    </tr>\n",
       "    <tr>\n",
       "      <th>30</th>\n",
       "      <td>card</td>\n",
       "      <td>object</td>\n",
       "      <td>98.50</td>\n",
       "      <td>dict</td>\n",
       "    </tr>\n",
       "    <tr>\n",
       "      <th>31</th>\n",
       "      <td>_type</td>\n",
       "      <td>object</td>\n",
       "      <td>0.00</td>\n",
       "      <td>1</td>\n",
       "    </tr>\n",
       "  </tbody>\n",
       "</table>\n",
       "</div>"
      ],
      "text/plain": [
       "         Nombre Columna         Tipo de Dato  Valores Nulos (%) Valores Únicos\n",
       "0                    id                int64               0.00           5597\n",
       "1                id_str                int64               0.00           5597\n",
       "2                   url               object               0.00           5597\n",
       "3                  date  datetime64[ns, UTC]               0.00           5588\n",
       "4                  user               object               0.00           dict\n",
       "5                  lang               object               0.00             24\n",
       "6            rawContent               object               0.00           5589\n",
       "7            replyCount                int64               0.00            196\n",
       "8          retweetCount                int64               0.00            350\n",
       "9             likeCount                int64               0.00            502\n",
       "10           quoteCount                int64               0.00            122\n",
       "11      bookmarkedCount                int64               0.00             75\n",
       "12       conversationId                int64               0.00           3184\n",
       "13    conversationIdStr                int64               0.00           3184\n",
       "14             hashtags               object               0.00           list\n",
       "15             cashtags               object               0.00           list\n",
       "16       mentionedUsers               object               0.00           list\n",
       "17                links               object               0.00           list\n",
       "18            viewCount              float64               0.07           1844\n",
       "19       retweetedTweet              float64             100.00              0\n",
       "20          quotedTweet               object              89.10           dict\n",
       "21                place               object              99.29           dict\n",
       "22          coordinates              float64             100.00              0\n",
       "23     inReplyToTweetId              float64              28.78           2291\n",
       "24  inReplyToTweetIdStr              float64              28.78           2291\n",
       "25        inReplyToUser               object              25.94           dict\n",
       "26               source               object               0.00             18\n",
       "27            sourceUrl               object               0.00             18\n",
       "28          sourceLabel               object               0.00             18\n",
       "29                media               object               0.00           dict\n",
       "30                 card               object              98.50           dict\n",
       "31                _type               object               0.00              1"
      ]
     },
     "metadata": {},
     "output_type": "display_data"
    }
   ],
   "source": [
    "# Mostrar información del DataFrame de 'traficogt'\n",
    "print(\"Información del dataset: traficogt.txt\")\n",
    "get_DF_info(traficogt_df)"
   ]
  },
  {
   "cell_type": "markdown",
   "metadata": {},
   "source": [
    "El análisis inicial ha revelado la presencia de estructuras complejas como diccionarios y listas en varias columnas del conjunto de datos. Esto indica que algunos campos contienen datos anidados, los cuales requieren un procesamiento especial para ser adecuadamente analizados. Además, se ha observado una discrepancia en los tipos de datos; por ejemplo, variables que deberían ser tratadas como cadenas de texto (str) se están manejando como enteros (int)."
   ]
  },
  {
   "cell_type": "markdown",
   "metadata": {},
   "source": [
    "### Visualizar Dataframe"
   ]
  },
  {
   "cell_type": "code",
   "execution_count": 5,
   "metadata": {},
   "outputs": [
    {
     "data": {
      "text/html": [
       "<div>\n",
       "<style scoped>\n",
       "    .dataframe tbody tr th:only-of-type {\n",
       "        vertical-align: middle;\n",
       "    }\n",
       "\n",
       "    .dataframe tbody tr th {\n",
       "        vertical-align: top;\n",
       "    }\n",
       "\n",
       "    .dataframe thead th {\n",
       "        text-align: right;\n",
       "    }\n",
       "</style>\n",
       "<table border=\"1\" class=\"dataframe\">\n",
       "  <thead>\n",
       "    <tr style=\"text-align: right;\">\n",
       "      <th></th>\n",
       "      <th>id</th>\n",
       "      <th>id_str</th>\n",
       "      <th>url</th>\n",
       "      <th>date</th>\n",
       "      <th>user</th>\n",
       "      <th>lang</th>\n",
       "      <th>rawContent</th>\n",
       "      <th>replyCount</th>\n",
       "      <th>retweetCount</th>\n",
       "      <th>likeCount</th>\n",
       "      <th>quoteCount</th>\n",
       "      <th>bookmarkedCount</th>\n",
       "      <th>conversationId</th>\n",
       "      <th>conversationIdStr</th>\n",
       "      <th>hashtags</th>\n",
       "      <th>cashtags</th>\n",
       "      <th>mentionedUsers</th>\n",
       "      <th>links</th>\n",
       "      <th>viewCount</th>\n",
       "      <th>retweetedTweet</th>\n",
       "      <th>quotedTweet</th>\n",
       "      <th>place</th>\n",
       "      <th>coordinates</th>\n",
       "      <th>inReplyToTweetId</th>\n",
       "      <th>inReplyToTweetIdStr</th>\n",
       "      <th>inReplyToUser</th>\n",
       "      <th>source</th>\n",
       "      <th>sourceUrl</th>\n",
       "      <th>sourceLabel</th>\n",
       "      <th>media</th>\n",
       "      <th>card</th>\n",
       "      <th>_type</th>\n",
       "    </tr>\n",
       "  </thead>\n",
       "  <tbody>\n",
       "    <tr>\n",
       "      <th>0</th>\n",
       "      <td>1834236045598056867</td>\n",
       "      <td>1834236045598056960</td>\n",
       "      <td>https://x.com/traficogt/status/183423604559805...</td>\n",
       "      <td>2024-09-12 14:22:06+00:00</td>\n",
       "      <td>{'id': 93938886, 'id_str': '93938886', 'url': ...</td>\n",
       "      <td>es</td>\n",
       "      <td>Es comprensible la resolución... El ruso sabe ...</td>\n",
       "      <td>0</td>\n",
       "      <td>0</td>\n",
       "      <td>1</td>\n",
       "      <td>0</td>\n",
       "      <td>0</td>\n",
       "      <td>1834236045598056867</td>\n",
       "      <td>1834236045598056960</td>\n",
       "      <td>[]</td>\n",
       "      <td>[]</td>\n",
       "      <td>[]</td>\n",
       "      <td>[]</td>\n",
       "      <td>393.0</td>\n",
       "      <td>NaN</td>\n",
       "      <td>{'id': 1834029142565658846, 'id_str': '1834029...</td>\n",
       "      <td>None</td>\n",
       "      <td>NaN</td>\n",
       "      <td>NaN</td>\n",
       "      <td>NaN</td>\n",
       "      <td>None</td>\n",
       "      <td>&lt;a href=\"http://twitter.com/download/android\" ...</td>\n",
       "      <td>http://twitter.com/download/android</td>\n",
       "      <td>Twitter for Android</td>\n",
       "      <td>{'photos': [], 'videos': [], 'animated': []}</td>\n",
       "      <td>None</td>\n",
       "      <td>snscrape.modules.twitter.Tweet</td>\n",
       "    </tr>\n",
       "    <tr>\n",
       "      <th>1</th>\n",
       "      <td>1834029142565658846</td>\n",
       "      <td>1834029142565658880</td>\n",
       "      <td>https://x.com/monymmorales/status/183402914256...</td>\n",
       "      <td>2024-09-12 00:39:56+00:00</td>\n",
       "      <td>{'id': 976875408, 'id_str': '976875408', 'url'...</td>\n",
       "      <td>es</td>\n",
       "      <td>La corrupción de la @CC_Guatemala\\nes descarad...</td>\n",
       "      <td>0</td>\n",
       "      <td>56</td>\n",
       "      <td>84</td>\n",
       "      <td>4</td>\n",
       "      <td>1</td>\n",
       "      <td>1834029142565658846</td>\n",
       "      <td>1834029142565658880</td>\n",
       "      <td>[]</td>\n",
       "      <td>[]</td>\n",
       "      <td>[{'id': 783345301256073216, 'id_str': '7833453...</td>\n",
       "      <td>[{'url': 'https://www.prensalibre.com/guatemal...</td>\n",
       "      <td>1587.0</td>\n",
       "      <td>NaN</td>\n",
       "      <td>None</td>\n",
       "      <td>None</td>\n",
       "      <td>NaN</td>\n",
       "      <td>NaN</td>\n",
       "      <td>NaN</td>\n",
       "      <td>None</td>\n",
       "      <td>&lt;a href=\"http://twitter.com/download/android\" ...</td>\n",
       "      <td>http://twitter.com/download/android</td>\n",
       "      <td>Twitter for Android</td>\n",
       "      <td>{'photos': [], 'videos': [], 'animated': []}</td>\n",
       "      <td>{'title': 'La Corte de Constitucionalidad orde...</td>\n",
       "      <td>snscrape.modules.twitter.Tweet</td>\n",
       "    </tr>\n",
       "    <tr>\n",
       "      <th>2</th>\n",
       "      <td>1834039491826180424</td>\n",
       "      <td>1834039491826180352</td>\n",
       "      <td>https://x.com/animaldgalaccia/status/183403949...</td>\n",
       "      <td>2024-09-12 01:21:04+00:00</td>\n",
       "      <td>{'id': 1730828822029750272, 'id_str': '1730828...</td>\n",
       "      <td>qme</td>\n",
       "      <td>@PNCdeGuatemala @mingobguate @FJimenezmingob @...</td>\n",
       "      <td>0</td>\n",
       "      <td>0</td>\n",
       "      <td>1</td>\n",
       "      <td>0</td>\n",
       "      <td>0</td>\n",
       "      <td>1834039491826180424</td>\n",
       "      <td>1834039491826180352</td>\n",
       "      <td>[]</td>\n",
       "      <td>[]</td>\n",
       "      <td>[{'id': 130315077, 'id_str': '130315077', 'use...</td>\n",
       "      <td>[]</td>\n",
       "      <td>91.0</td>\n",
       "      <td>NaN</td>\n",
       "      <td>None</td>\n",
       "      <td>None</td>\n",
       "      <td>NaN</td>\n",
       "      <td>NaN</td>\n",
       "      <td>NaN</td>\n",
       "      <td>{'id': 130315077, 'id_str': '130315077', 'user...</td>\n",
       "      <td>&lt;a href=\"http://twitter.com/download/iphone\" r...</td>\n",
       "      <td>http://twitter.com/download/iphone</td>\n",
       "      <td>Twitter for iPhone</td>\n",
       "      <td>{'photos': [], 'videos': [], 'animated': []}</td>\n",
       "      <td>None</td>\n",
       "      <td>snscrape.modules.twitter.Tweet</td>\n",
       "    </tr>\n",
       "    <tr>\n",
       "      <th>3</th>\n",
       "      <td>1833963729136091179</td>\n",
       "      <td>1833963729136091136</td>\n",
       "      <td>https://x.com/EstacionDobleA/status/1833963729...</td>\n",
       "      <td>2024-09-11 20:20:01+00:00</td>\n",
       "      <td>{'id': 1802661334355456000, 'id_str': '1802661...</td>\n",
       "      <td>qam</td>\n",
       "      <td>@amilcarmontejo @AztecaNoticiaGT @BancadaSemil...</td>\n",
       "      <td>0</td>\n",
       "      <td>0</td>\n",
       "      <td>0</td>\n",
       "      <td>0</td>\n",
       "      <td>0</td>\n",
       "      <td>1833963727575781534</td>\n",
       "      <td>1833963727575781632</td>\n",
       "      <td>[]</td>\n",
       "      <td>[]</td>\n",
       "      <td>[{'id': 372126670, 'id_str': '372126670', 'use...</td>\n",
       "      <td>[]</td>\n",
       "      <td>46.0</td>\n",
       "      <td>NaN</td>\n",
       "      <td>None</td>\n",
       "      <td>None</td>\n",
       "      <td>NaN</td>\n",
       "      <td>1.833964e+18</td>\n",
       "      <td>1.833964e+18</td>\n",
       "      <td>{'id': 1802661334355456000, 'id_str': '1802661...</td>\n",
       "      <td>&lt;a href=\"http://twitter.com/download/android\" ...</td>\n",
       "      <td>http://twitter.com/download/android</td>\n",
       "      <td>Twitter for Android</td>\n",
       "      <td>{'photos': [], 'videos': [], 'animated': []}</td>\n",
       "      <td>None</td>\n",
       "      <td>snscrape.modules.twitter.Tweet</td>\n",
       "    </tr>\n",
       "    <tr>\n",
       "      <th>4</th>\n",
       "      <td>1833665391698092330</td>\n",
       "      <td>1833665391698092288</td>\n",
       "      <td>https://x.com/CubReserva/status/18336653916980...</td>\n",
       "      <td>2024-09-11 00:34:31+00:00</td>\n",
       "      <td>{'id': 1155617398675988481, 'id_str': '1155617...</td>\n",
       "      <td>es</td>\n",
       "      <td>@soy_502 @AztecaNoticiaGT @CONAPgt @DenunciaEM...</td>\n",
       "      <td>0</td>\n",
       "      <td>0</td>\n",
       "      <td>1</td>\n",
       "      <td>0</td>\n",
       "      <td>0</td>\n",
       "      <td>1833664431084949711</td>\n",
       "      <td>1833664431084949760</td>\n",
       "      <td>[]</td>\n",
       "      <td>[]</td>\n",
       "      <td>[{'id': 1687984068, 'id_str': '1687984068', 'u...</td>\n",
       "      <td>[]</td>\n",
       "      <td>171.0</td>\n",
       "      <td>NaN</td>\n",
       "      <td>None</td>\n",
       "      <td>None</td>\n",
       "      <td>NaN</td>\n",
       "      <td>1.833664e+18</td>\n",
       "      <td>1.833664e+18</td>\n",
       "      <td>{'id': 1155617398675988481, 'id_str': '1155617...</td>\n",
       "      <td>&lt;a href=\"http://twitter.com/download/android\" ...</td>\n",
       "      <td>http://twitter.com/download/android</td>\n",
       "      <td>Twitter for Android</td>\n",
       "      <td>{'photos': [], 'videos': [], 'animated': []}</td>\n",
       "      <td>None</td>\n",
       "      <td>snscrape.modules.twitter.Tweet</td>\n",
       "    </tr>\n",
       "  </tbody>\n",
       "</table>\n",
       "</div>"
      ],
      "text/plain": [
       "                    id               id_str  \\\n",
       "0  1834236045598056867  1834236045598056960   \n",
       "1  1834029142565658846  1834029142565658880   \n",
       "2  1834039491826180424  1834039491826180352   \n",
       "3  1833963729136091179  1833963729136091136   \n",
       "4  1833665391698092330  1833665391698092288   \n",
       "\n",
       "                                                 url  \\\n",
       "0  https://x.com/traficogt/status/183423604559805...   \n",
       "1  https://x.com/monymmorales/status/183402914256...   \n",
       "2  https://x.com/animaldgalaccia/status/183403949...   \n",
       "3  https://x.com/EstacionDobleA/status/1833963729...   \n",
       "4  https://x.com/CubReserva/status/18336653916980...   \n",
       "\n",
       "                       date  \\\n",
       "0 2024-09-12 14:22:06+00:00   \n",
       "1 2024-09-12 00:39:56+00:00   \n",
       "2 2024-09-12 01:21:04+00:00   \n",
       "3 2024-09-11 20:20:01+00:00   \n",
       "4 2024-09-11 00:34:31+00:00   \n",
       "\n",
       "                                                user lang  \\\n",
       "0  {'id': 93938886, 'id_str': '93938886', 'url': ...   es   \n",
       "1  {'id': 976875408, 'id_str': '976875408', 'url'...   es   \n",
       "2  {'id': 1730828822029750272, 'id_str': '1730828...  qme   \n",
       "3  {'id': 1802661334355456000, 'id_str': '1802661...  qam   \n",
       "4  {'id': 1155617398675988481, 'id_str': '1155617...   es   \n",
       "\n",
       "                                          rawContent  replyCount  \\\n",
       "0  Es comprensible la resolución... El ruso sabe ...           0   \n",
       "1  La corrupción de la @CC_Guatemala\\nes descarad...           0   \n",
       "2  @PNCdeGuatemala @mingobguate @FJimenezmingob @...           0   \n",
       "3  @amilcarmontejo @AztecaNoticiaGT @BancadaSemil...           0   \n",
       "4  @soy_502 @AztecaNoticiaGT @CONAPgt @DenunciaEM...           0   \n",
       "\n",
       "   retweetCount  likeCount  quoteCount  bookmarkedCount       conversationId  \\\n",
       "0             0          1           0                0  1834236045598056867   \n",
       "1            56         84           4                1  1834029142565658846   \n",
       "2             0          1           0                0  1834039491826180424   \n",
       "3             0          0           0                0  1833963727575781534   \n",
       "4             0          1           0                0  1833664431084949711   \n",
       "\n",
       "     conversationIdStr hashtags cashtags  \\\n",
       "0  1834236045598056960       []       []   \n",
       "1  1834029142565658880       []       []   \n",
       "2  1834039491826180352       []       []   \n",
       "3  1833963727575781632       []       []   \n",
       "4  1833664431084949760       []       []   \n",
       "\n",
       "                                      mentionedUsers  \\\n",
       "0                                                 []   \n",
       "1  [{'id': 783345301256073216, 'id_str': '7833453...   \n",
       "2  [{'id': 130315077, 'id_str': '130315077', 'use...   \n",
       "3  [{'id': 372126670, 'id_str': '372126670', 'use...   \n",
       "4  [{'id': 1687984068, 'id_str': '1687984068', 'u...   \n",
       "\n",
       "                                               links  viewCount  \\\n",
       "0                                                 []      393.0   \n",
       "1  [{'url': 'https://www.prensalibre.com/guatemal...     1587.0   \n",
       "2                                                 []       91.0   \n",
       "3                                                 []       46.0   \n",
       "4                                                 []      171.0   \n",
       "\n",
       "   retweetedTweet                                        quotedTweet place  \\\n",
       "0             NaN  {'id': 1834029142565658846, 'id_str': '1834029...  None   \n",
       "1             NaN                                               None  None   \n",
       "2             NaN                                               None  None   \n",
       "3             NaN                                               None  None   \n",
       "4             NaN                                               None  None   \n",
       "\n",
       "   coordinates  inReplyToTweetId  inReplyToTweetIdStr  \\\n",
       "0          NaN               NaN                  NaN   \n",
       "1          NaN               NaN                  NaN   \n",
       "2          NaN               NaN                  NaN   \n",
       "3          NaN      1.833964e+18         1.833964e+18   \n",
       "4          NaN      1.833664e+18         1.833664e+18   \n",
       "\n",
       "                                       inReplyToUser  \\\n",
       "0                                               None   \n",
       "1                                               None   \n",
       "2  {'id': 130315077, 'id_str': '130315077', 'user...   \n",
       "3  {'id': 1802661334355456000, 'id_str': '1802661...   \n",
       "4  {'id': 1155617398675988481, 'id_str': '1155617...   \n",
       "\n",
       "                                              source  \\\n",
       "0  <a href=\"http://twitter.com/download/android\" ...   \n",
       "1  <a href=\"http://twitter.com/download/android\" ...   \n",
       "2  <a href=\"http://twitter.com/download/iphone\" r...   \n",
       "3  <a href=\"http://twitter.com/download/android\" ...   \n",
       "4  <a href=\"http://twitter.com/download/android\" ...   \n",
       "\n",
       "                             sourceUrl          sourceLabel  \\\n",
       "0  http://twitter.com/download/android  Twitter for Android   \n",
       "1  http://twitter.com/download/android  Twitter for Android   \n",
       "2   http://twitter.com/download/iphone   Twitter for iPhone   \n",
       "3  http://twitter.com/download/android  Twitter for Android   \n",
       "4  http://twitter.com/download/android  Twitter for Android   \n",
       "\n",
       "                                          media  \\\n",
       "0  {'photos': [], 'videos': [], 'animated': []}   \n",
       "1  {'photos': [], 'videos': [], 'animated': []}   \n",
       "2  {'photos': [], 'videos': [], 'animated': []}   \n",
       "3  {'photos': [], 'videos': [], 'animated': []}   \n",
       "4  {'photos': [], 'videos': [], 'animated': []}   \n",
       "\n",
       "                                                card  \\\n",
       "0                                               None   \n",
       "1  {'title': 'La Corte de Constitucionalidad orde...   \n",
       "2                                               None   \n",
       "3                                               None   \n",
       "4                                               None   \n",
       "\n",
       "                            _type  \n",
       "0  snscrape.modules.twitter.Tweet  \n",
       "1  snscrape.modules.twitter.Tweet  \n",
       "2  snscrape.modules.twitter.Tweet  \n",
       "3  snscrape.modules.twitter.Tweet  \n",
       "4  snscrape.modules.twitter.Tweet  "
      ]
     },
     "execution_count": 5,
     "metadata": {},
     "output_type": "execute_result"
    }
   ],
   "source": [
    "pd.set_option('display.max_columns', None)\n",
    "traficogt_df.head()"
   ]
  },
  {
   "cell_type": "markdown",
   "metadata": {},
   "source": [
    "Esta visualización del conjunto de datos muestra que efectivamente hay variables que tienen diccionarios con data anidada, por lo que sera necesario extraer solo la informacion relevante de estas variables para evitar agregar una mayor dimensionalidad al dataframe con variables que no aportan información relevante."
   ]
  },
  {
   "cell_type": "markdown",
   "metadata": {},
   "source": [
    "### Identificación de Variables"
   ]
  },
  {
   "cell_type": "markdown",
   "metadata": {},
   "source": [
    "**Descripción de las variables del dataset `traficogt.txt`**\n",
    "\n",
    "- `id`: Identificador numérico único del tweet.\n",
    "- `id_str`: Identificador del tweet en formato string, que representa el mismo valor que `id`.\n",
    "- `url`: URL del tweet en la plataforma `X` (anteriormente conocida como Twitter).\n",
    "- `date`: Fecha y hora en que el tweet fue publicado.\n",
    "- `user`: Información del usuario que publicó el tweet (un diccionario que incluye detalles como el nombre de usuario, seguidores, y más).\n",
    "- `lang`: Idioma en el que está escrito el tweet.\n",
    "- `rawContent`: Texto completo del tweet.\n",
    "- `replyCount`: Número de respuestas al tweet.\n",
    "- `retweetCount`: Número de retweets que ha recibido el tweet.\n",
    "- `likeCount`: Número de \"likes\" que ha recibido el tweet.\n",
    "- `quoteCount`: Número de veces que el tweet ha sido citado.\n",
    "- `bookmarkedCount`: Número de veces que el tweet ha sido guardado en marcadores.\n",
    "- `conversationId`: Identificador del hilo de conversación al que pertenece el tweet.\n",
    "- `conversationIdStr`: Identificador en formato string del hilo de conversación al que pertenece el tweet.\n",
    "- `hashtags`: Lista de hashtags incluidos en el tweet.\n",
    "- `cashtags`: Lista de cashtags (etiquetas relacionadas con símbolos de acciones o monedas) en el tweet.\n",
    "- `mentionedUsers`: Lista de usuarios mencionados en el tweet.\n",
    "- `links`: Lista de enlaces incluidos en el tweet.\n",
    "- `viewCount`: Número de visualizaciones del tweet.\n",
    "- `retweetedTweet`: Información sobre el tweet retuiteado (puede estar vacío si el tweet no es un retweet).\n",
    "- `quotedTweet`: Información del tweet citado (si el tweet cita a otro).\n",
    "- `place`: Información geográfica del lugar desde donde se publicó el tweet (si está disponible).\n",
    "- `coordinates`: Coordenadas geográficas (si están disponibles) del lugar donde se publicó el tweet.\n",
    "- `inReplyToTweetId`: Identificador del tweet al que se respondió (si aplica).\n",
    "- `inReplyToTweetIdStr`: Identificador en formato string del tweet al que se respondió.\n",
    "- `inReplyToUser`: Información del usuario al que se le respondió (si aplica).\n",
    "- `source`: Texto que describe la plataforma desde la cual se publicó el tweet (ej., \"Twitter for iPhone\").\n",
    "- `sourceUrl`: URL de la plataforma desde la cual se publicó el tweet.\n",
    "- `sourceLabel`: Etiqueta descriptiva de la plataforma desde la cual se publicó el tweet.\n",
    "- `media`: Información multimedia asociada al tweet, como fotos o videos.\n",
    "- `card`: Información relacionada con tarjetas de Twitter (por ejemplo, tarjetas de resumen de enlaces).\n",
    "- `_type`: Tipo de entidad, que en este caso indica que es un tweet (valor fijo)."
   ]
  },
  {
   "cell_type": "markdown",
   "metadata": {},
   "source": [
    "### Observaciones Importantes de Variables"
   ]
  },
  {
   "cell_type": "markdown",
   "metadata": {},
   "source": [
    "**Variables Duplicadas**\n",
    "\n",
    "Aunque es útil tener tanto el identificador numérico (`id`, `conversationId`, `inReplyToTweetId`) como el string (`id_str`, `conversationIdStr`,`inReplyToTweetIdStr`), es probable que una sola de estas columnas sea suficiente. Dado que son representaciones del mismo dato, se considerará eliminar una de ellas dependiendo de cuál se adapte mejor a los análisis posteriores.\n",
    "\n",
    "\n",
    "**Variables Irrelevantes**\n",
    "\n",
    "Dada la naturaleza cruda del conjunto de datos hay varias variables que realmente no aportan información\n",
    "relevante en relación al objetivo de este análisis. Por lo tanto se considerará eliminar directamente columnas como `_type`, `source`, `media`, `coordinate`, etc. ya que su información va mas relacionada al Tweet como tal, y no al contenido y contexto del mismo.\n",
    "\n",
    "**Idioma**\n",
    "\n",
    "Hay una variable `lang` referente al idioma en el que se redacto el tweet, por lo que se considera la opción de conservar unicamente los tweets en español para que la data sea consistente, con la posibilidad de incluir los que esten en inglés si no fueran suficientes."
   ]
  },
  {
   "cell_type": "markdown",
   "metadata": {},
   "source": [
    "## Preprocesamiento y Limpieza"
   ]
  },
  {
   "cell_type": "markdown",
   "metadata": {},
   "source": [
    "### Valores Nulos"
   ]
  },
  {
   "cell_type": "code",
   "execution_count": 6,
   "metadata": {},
   "outputs": [],
   "source": [
    "def plot_null_values(df, name):\n",
    "    \"\"\"\n",
    "    Función que genera un gráfico de barras con los valores nulos de un dataframe dado.\n",
    "\n",
    "    Args:\n",
    "        df (pandas.DataFrame): El dataframe de entrada.\n",
    "        \n",
    "    Returns:\n",
    "        None\n",
    "    \"\"\"\n",
    "    plt.figure(figsize=(12, 6))\n",
    "    sns.heatmap(df.isnull(), cbar=False, cmap='viridis')\n",
    "    plt.title(f'Valores Nulos en archivo {name}')\n",
    "    plt.show()"
   ]
  },
  {
   "cell_type": "markdown",
   "metadata": {},
   "source": [
    "#### Visualización de valores nulos"
   ]
  },
  {
   "cell_type": "code",
   "execution_count": 7,
   "metadata": {},
   "outputs": [
    {
     "data": {
      "image/png": "[encoded data removed]",
      "text/plain": [
       "<Figure size 1200x600 with 1 Axes>"
      ]
     },
     "metadata": {},
     "output_type": "display_data"
    }
   ],
   "source": [
    "plot_null_values(traficogt_df, 'traficogt.txt')"
   ]
  },
  {
   "cell_type": "markdown",
   "metadata": {},
   "source": [
    "#### Observaciones de nulos"
   ]
  },
  {
   "cell_type": "markdown",
   "metadata": {},
   "source": [
    "**Variables con muchos nulos**\n",
    "\n",
    "`retweetedTweet`, `quotedTweet`, `coordinates`, `place`, `media`, y `card` tienen una gran cantidad de valores nulos (**cercana al 100%**), lo que hace que su retención en el análisis sea poco práctica. Dado que el enfoque de este estudio es entender cómo la temporada de lluvias afecta el tráfico en la ciudad, estas variables no ofrecen información relevante.\n",
    "- `Retweets` no contienen contenido original y no reflejan nuevas observaciones sobre el tráfico.\n",
    "- `quotedTweet` contiene toda la información del tweet al que se menciona, sin embargo esta variable no aporta de manera directa como interactuan los usuarios.\n",
    "- Datos geográficos (`coordinates`, `place`) tienen un bajo porcentaje de datos completos, lo que impide realizar análisis espaciales útiles sobre las zonas más congestionadas de la ciudad.\n",
    "- Contenido multimedia y tarjetas (`media`, `card`) no aportan información directa que ayude a analizar el tráfico en la ciudad."
   ]
  },
  {
   "cell_type": "markdown",
   "metadata": {},
   "source": [
    "**Variables con algunos nulos**\n",
    "\n",
    "Las columnas como `inReplyToTweetId`, `inReplyToUser` y contienen información importante sobre la interacción entre usuarios, por lo que no se eliminarán. Sin embargo, los valores nulos se reemplazarán por una etiqueta que indique que el tweet no aplica a estas categorías, permitiendo el análisis de respuestas y citas de manera más precisa."
   ]
  },
  {
   "cell_type": "markdown",
   "metadata": {},
   "source": [
    "#### Manejo de Nulos"
   ]
  },
  {
   "cell_type": "markdown",
   "metadata": {},
   "source": [
    "Como se menciono anteriormente hay variables con casi todos sus datos faltantes y que no aportan infomración relevante en el análisis por lo que serán eliminadas:\n",
    "- `retweetedTweet`\n",
    "- `coordinates`\n",
    "- `place`\n",
    "- `media`\n",
    "- `card`"
   ]
  },
  {
   "cell_type": "code",
   "execution_count": 8,
   "metadata": {},
   "outputs": [],
   "source": [
    "# Eliminar las columnas con muchos nulos que no aportan al análisis\n",
    "columns_to_drop = ['retweetedTweet', 'coordinates', 'place', 'media', 'card', 'quotedTweet', 'sourceUrl', 'sourceLabel']\n",
    "traficogt_df = traficogt_df.drop(columns=columns_to_drop)"
   ]
  },
  {
   "cell_type": "code",
   "execution_count": 9,
   "metadata": {},
   "outputs": [],
   "source": [
    "# Reemplazar los valores nulos en las columnas seleccionadas con un string representativo\n",
    "columns_with_nans = ['inReplyToTweetId', 'inReplyToUser', 'inReplyToTweetIdStr']\n",
    "traficogt_df[columns_with_nans] = traficogt_df[columns_with_nans].fillna('no aplica')\n",
    "# Convertir los valores numéricos en 'inReplyToTweetId' a enteros, manteniendo \"No aplica\"\n",
    "traficogt_df['inReplyToTweetId'] = traficogt_df['inReplyToTweetId'].apply(lambda x: int(x) if isinstance(x, float) else x)\n",
    "\n",
    "# Eliminar las filas con valores nulos en las columnas restantes\n",
    "traficogt_df = traficogt_df.dropna()"
   ]
  },
  {
   "cell_type": "code",
   "execution_count": 10,
   "metadata": {},
   "outputs": [
    {
     "name": "stdout",
     "output_type": "stream",
     "text": [
      "id                     0\n",
      "id_str                 0\n",
      "url                    0\n",
      "date                   0\n",
      "user                   0\n",
      "lang                   0\n",
      "rawContent             0\n",
      "replyCount             0\n",
      "retweetCount           0\n",
      "likeCount              0\n",
      "quoteCount             0\n",
      "bookmarkedCount        0\n",
      "conversationId         0\n",
      "conversationIdStr      0\n",
      "hashtags               0\n",
      "cashtags               0\n",
      "mentionedUsers         0\n",
      "links                  0\n",
      "viewCount              0\n",
      "inReplyToTweetId       0\n",
      "inReplyToTweetIdStr    0\n",
      "inReplyToUser          0\n",
      "source                 0\n",
      "_type                  0\n",
      "dtype: int64\n"
     ]
    }
   ],
   "source": [
    "# Contar los valores nulos en cada columna del DataFrame\n",
    "null_counts = traficogt_df.isnull().sum()\n",
    "print(null_counts)"
   ]
  },
  {
   "cell_type": "markdown",
   "metadata": {},
   "source": [
    "### Datos Anidados (Variables diccionario o lista)"
   ]
  },
  {
   "cell_type": "markdown",
   "metadata": {},
   "source": [
    "Dado que hay variables dentro del conjunto de datos que poseen estructuras como diccionarios o listas (listas de diccionarios) dentro de sus valores, es necesario manejarlos para poder obtener información relevante. La estrategia sera evaluar el contenido de los diccionarios y determinar que keys son relevantes en este analisis para conservarlas en variables separadas, para las listas se evaluara el contenido y se creara un string con los valores concatenados separados por comas, si fuese el caso de listas de diccionarios, en ellos tambien se hara la evaluacion de keys para conservar solo la mas importante y con ello crear el string concatenado."
   ]
  },
  {
   "cell_type": "markdown",
   "metadata": {},
   "source": [
    "#### Identificación de datos anidados"
   ]
  },
  {
   "cell_type": "code",
   "execution_count": 11,
   "metadata": {},
   "outputs": [],
   "source": [
    "def identify_columns_with_dicts_or_lists(df):\n",
    "    dict_columns = []\n",
    "    list_columns = []\n",
    "    \n",
    "    for col in df.columns:\n",
    "        if df[col].apply(lambda x: isinstance(x, dict)).any():\n",
    "            dict_columns.append(col)\n",
    "        elif df[col].apply(lambda x: isinstance(x, list)).any():\n",
    "            list_columns.append(col)\n",
    "    \n",
    "    print(f\"Columnas con diccionarios:\")\n",
    "    for col in dict_columns:\n",
    "        print(f\"  - {col}\")\n",
    "    print(f\"\\nColumnas con listas:\")\n",
    "    for col in list_columns:\n",
    "        print(f\"  - {col}\")\n",
    "\n",
    "    return dict_columns, list_columns"
   ]
  },
  {
   "cell_type": "code",
   "execution_count": 12,
   "metadata": {},
   "outputs": [
    {
     "name": "stdout",
     "output_type": "stream",
     "text": [
      "Columnas con diccionarios:\n",
      "  - user\n",
      "  - inReplyToUser\n",
      "\n",
      "Columnas con listas:\n",
      "  - hashtags\n",
      "  - cashtags\n",
      "  - mentionedUsers\n",
      "  - links\n"
     ]
    }
   ],
   "source": [
    "dict_columns, list_columns = identify_columns_with_dicts_or_lists(traficogt_df)"
   ]
  },
  {
   "cell_type": "markdown",
   "metadata": {},
   "source": [
    "#### Análisis de contenidos"
   ]
  },
  {
   "cell_type": "markdown",
   "metadata": {},
   "source": [
    "Hay 2 columnas que poseen diccionarios, y 4 con listas, a continuación se analizara el contenido de cada una de estas variables"
   ]
  },
  {
   "cell_type": "code",
   "execution_count": 13,
   "metadata": {},
   "outputs": [
    {
     "data": {
      "text/html": [
       "<div>\n",
       "<style scoped>\n",
       "    .dataframe tbody tr th:only-of-type {\n",
       "        vertical-align: middle;\n",
       "    }\n",
       "\n",
       "    .dataframe tbody tr th {\n",
       "        vertical-align: top;\n",
       "    }\n",
       "\n",
       "    .dataframe thead th {\n",
       "        text-align: right;\n",
       "    }\n",
       "</style>\n",
       "<table border=\"1\" class=\"dataframe\">\n",
       "  <thead>\n",
       "    <tr style=\"text-align: right;\">\n",
       "      <th></th>\n",
       "      <th>user</th>\n",
       "      <th>inReplyToUser</th>\n",
       "    </tr>\n",
       "  </thead>\n",
       "  <tbody>\n",
       "    <tr>\n",
       "      <th>0</th>\n",
       "      <td>{'id': 93938886, 'id_str': '93938886', 'url': ...</td>\n",
       "      <td>no aplica</td>\n",
       "    </tr>\n",
       "    <tr>\n",
       "      <th>1</th>\n",
       "      <td>{'id': 976875408, 'id_str': '976875408', 'url'...</td>\n",
       "      <td>no aplica</td>\n",
       "    </tr>\n",
       "    <tr>\n",
       "      <th>2</th>\n",
       "      <td>{'id': 1730828822029750272, 'id_str': '1730828...</td>\n",
       "      <td>{'id': 130315077, 'id_str': '130315077', 'user...</td>\n",
       "    </tr>\n",
       "    <tr>\n",
       "      <th>3</th>\n",
       "      <td>{'id': 1802661334355456000, 'id_str': '1802661...</td>\n",
       "      <td>{'id': 1802661334355456000, 'id_str': '1802661...</td>\n",
       "    </tr>\n",
       "    <tr>\n",
       "      <th>4</th>\n",
       "      <td>{'id': 1155617398675988481, 'id_str': '1155617...</td>\n",
       "      <td>{'id': 1155617398675988481, 'id_str': '1155617...</td>\n",
       "    </tr>\n",
       "  </tbody>\n",
       "</table>\n",
       "</div>"
      ],
      "text/plain": [
       "                                                user  \\\n",
       "0  {'id': 93938886, 'id_str': '93938886', 'url': ...   \n",
       "1  {'id': 976875408, 'id_str': '976875408', 'url'...   \n",
       "2  {'id': 1730828822029750272, 'id_str': '1730828...   \n",
       "3  {'id': 1802661334355456000, 'id_str': '1802661...   \n",
       "4  {'id': 1155617398675988481, 'id_str': '1155617...   \n",
       "\n",
       "                                       inReplyToUser  \n",
       "0                                          no aplica  \n",
       "1                                          no aplica  \n",
       "2  {'id': 130315077, 'id_str': '130315077', 'user...  \n",
       "3  {'id': 1802661334355456000, 'id_str': '1802661...  \n",
       "4  {'id': 1155617398675988481, 'id_str': '1155617...  "
      ]
     },
     "execution_count": 13,
     "metadata": {},
     "output_type": "execute_result"
    }
   ],
   "source": [
    "# Mostrar las primeras filas de las columnas con diccionarios\n",
    "traficogt_df[dict_columns].head()"
   ]
  },
  {
   "cell_type": "code",
   "execution_count": 14,
   "metadata": {},
   "outputs": [
    {
     "name": "stdout",
     "output_type": "stream",
     "text": [
      "Contenido del primer diccionario en la columna 'user':\n"
     ]
    },
    {
     "data": {
      "text/plain": [
       "{'id': 93938886,\n",
       " 'id_str': '93938886',\n",
       " 'url': 'https://x.com/traficogt',\n",
       " 'username': 'traficogt',\n",
       " 'displayname': 'traficoGT',\n",
       " 'rawDescription': 'Noticias de ciudad de Guatemala',\n",
       " 'created': '2009-12-01 20:42:19+00:00',\n",
       " 'followersCount': 314368,\n",
       " 'friendsCount': 137,\n",
       " 'statusesCount': 52385,\n",
       " 'favouritesCount': 3471,\n",
       " 'listedCount': 291,\n",
       " 'mediaCount': 1292,\n",
       " 'location': 'Guatemala',\n",
       " 'profileImageUrl': 'https://pbs.twimg.com/profile_images/1782036597841530880/-tVuhOdK_normal.jpg',\n",
       " 'profileBannerUrl': None,\n",
       " 'protected': None,\n",
       " 'verified': False,\n",
       " 'blue': False,\n",
       " 'blueType': None,\n",
       " 'descriptionLinks': [],\n",
       " 'pinnedIds': [],\n",
       " '_type': 'snscrape.modules.twitter.User'}"
      ]
     },
     "metadata": {},
     "output_type": "display_data"
    }
   ],
   "source": [
    "# Buscar la primera instancia no vacía de diccionario en la columna 'user'\n",
    "non_empty_user = traficogt_df[traficogt_df['user'].apply(lambda x: isinstance(x, dict) and len(x) > 0)]['user']\n",
    "if non_empty_user.shape[0] > 0:\n",
    "    print(\"Contenido del primer diccionario en la columna 'user':\")\n",
    "    display(non_empty_user.iloc[0])\n",
    "else:\n",
    "    print(\"No se encontraron diccionarios NO VACIOS en la columna 'user'\")"
   ]
  },
  {
   "cell_type": "markdown",
   "metadata": {},
   "source": [
    "Dado que el análisis se centra en el impacto del tráfico en la ciudad y las interacciones entre usuarios, no todos los atributos del diccionario `user` son relevantes.\n",
    "\n",
    "El diccionario presenta una gran cantidad de datos relacionados al usuario de X que realizó el tweet.\n",
    "Por lo tanto, es importante destacar que realmente de todos estos atributos el único que es relevante mantener es el `username`, pues el resto son datos que no aportan mucho valor para el análisis de tweets o de relaciones."
   ]
  },
  {
   "cell_type": "code",
   "execution_count": 15,
   "metadata": {},
   "outputs": [
    {
     "name": "stdout",
     "output_type": "stream",
     "text": [
      "Contenido de un registro de la variable 'inReplyToUser':\n"
     ]
    },
    {
     "data": {
      "text/plain": [
       "{'id': 130315077,\n",
       " 'id_str': '130315077',\n",
       " 'username': 'PNCdeGuatemala',\n",
       " 'displayname': 'PNC de Guatemala',\n",
       " '_type': 'snscrape.modules.twitter.UserRef'}"
      ]
     },
     "metadata": {},
     "output_type": "display_data"
    }
   ],
   "source": [
    "# Mostrar todo el contenido de un registro de la variable 'inReplyToUser'\n",
    "non_empty_reply = traficogt_df[traficogt_df['inReplyToUser'].apply(lambda x: isinstance(x, dict) and len(x) > 0)]['inReplyToUser']\n",
    "\n",
    "if non_empty_reply.shape[0] > 0:\n",
    "    print(\"Contenido de un registro de la variable 'inReplyToUser':\")\n",
    "    display(non_empty_reply.iloc[0])\n",
    "else:\n",
    "    print(\"No se encontraron diccionarios NO VACIOS en la columna 'inReplyToUser'\")"
   ]
  },
  {
   "cell_type": "markdown",
   "metadata": {},
   "source": [
    "Similar a la variable `user`, este diccionario muestra parte de los datos del usuario, por lo que el único dato relevante a mantener es  `username`."
   ]
  },
  {
   "cell_type": "code",
   "execution_count": 16,
   "metadata": {},
   "outputs": [
    {
     "data": {
      "text/html": [
       "<div>\n",
       "<style scoped>\n",
       "    .dataframe tbody tr th:only-of-type {\n",
       "        vertical-align: middle;\n",
       "    }\n",
       "\n",
       "    .dataframe tbody tr th {\n",
       "        vertical-align: top;\n",
       "    }\n",
       "\n",
       "    .dataframe thead th {\n",
       "        text-align: right;\n",
       "    }\n",
       "</style>\n",
       "<table border=\"1\" class=\"dataframe\">\n",
       "  <thead>\n",
       "    <tr style=\"text-align: right;\">\n",
       "      <th></th>\n",
       "      <th>hashtags</th>\n",
       "      <th>cashtags</th>\n",
       "      <th>mentionedUsers</th>\n",
       "      <th>links</th>\n",
       "    </tr>\n",
       "  </thead>\n",
       "  <tbody>\n",
       "    <tr>\n",
       "      <th>0</th>\n",
       "      <td>[]</td>\n",
       "      <td>[]</td>\n",
       "      <td>[]</td>\n",
       "      <td>[]</td>\n",
       "    </tr>\n",
       "    <tr>\n",
       "      <th>1</th>\n",
       "      <td>[]</td>\n",
       "      <td>[]</td>\n",
       "      <td>[{'id': 783345301256073216, 'id_str': '7833453...</td>\n",
       "      <td>[{'url': 'https://www.prensalibre.com/guatemal...</td>\n",
       "    </tr>\n",
       "    <tr>\n",
       "      <th>2</th>\n",
       "      <td>[]</td>\n",
       "      <td>[]</td>\n",
       "      <td>[{'id': 130315077, 'id_str': '130315077', 'use...</td>\n",
       "      <td>[]</td>\n",
       "    </tr>\n",
       "    <tr>\n",
       "      <th>3</th>\n",
       "      <td>[]</td>\n",
       "      <td>[]</td>\n",
       "      <td>[{'id': 372126670, 'id_str': '372126670', 'use...</td>\n",
       "      <td>[]</td>\n",
       "    </tr>\n",
       "    <tr>\n",
       "      <th>4</th>\n",
       "      <td>[]</td>\n",
       "      <td>[]</td>\n",
       "      <td>[{'id': 1687984068, 'id_str': '1687984068', 'u...</td>\n",
       "      <td>[]</td>\n",
       "    </tr>\n",
       "  </tbody>\n",
       "</table>\n",
       "</div>"
      ],
      "text/plain": [
       "  hashtags cashtags                                     mentionedUsers  \\\n",
       "0       []       []                                                 []   \n",
       "1       []       []  [{'id': 783345301256073216, 'id_str': '7833453...   \n",
       "2       []       []  [{'id': 130315077, 'id_str': '130315077', 'use...   \n",
       "3       []       []  [{'id': 372126670, 'id_str': '372126670', 'use...   \n",
       "4       []       []  [{'id': 1687984068, 'id_str': '1687984068', 'u...   \n",
       "\n",
       "                                               links  \n",
       "0                                                 []  \n",
       "1  [{'url': 'https://www.prensalibre.com/guatemal...  \n",
       "2                                                 []  \n",
       "3                                                 []  \n",
       "4                                                 []  "
      ]
     },
     "execution_count": 16,
     "metadata": {},
     "output_type": "execute_result"
    }
   ],
   "source": [
    "# Mostrar las primeras filas de las columnas con listas\n",
    "traficogt_df[list_columns].head()"
   ]
  },
  {
   "cell_type": "code",
   "execution_count": 17,
   "metadata": {},
   "outputs": [
    {
     "name": "stdout",
     "output_type": "stream",
     "text": [
      "Contenido de un registro de la variable 'hashtags':\n"
     ]
    },
    {
     "data": {
      "text/plain": [
       "['urgente', 'Desaparecido']"
      ]
     },
     "metadata": {},
     "output_type": "display_data"
    }
   ],
   "source": [
    "# Mostrar todo el contenido de un registro de la variable 'hashtags'\n",
    "non_empty_hashtags = traficogt_df[traficogt_df['hashtags'].apply(lambda x: isinstance(x, list) and len(x) > 0)]['hashtags']\n",
    "\n",
    "if non_empty_hashtags.shape[0] > 0:\n",
    "    print(\"Contenido de un registro de la variable 'hashtags':\")\n",
    "    display(non_empty_hashtags.iloc[0])\n",
    "else:\n",
    "    print(\"No se encontraron listas NO VACIAS en la columna 'hashtags'\")"
   ]
  },
  {
   "cell_type": "markdown",
   "metadata": {},
   "source": [
    "Esta lista puede ser de ayuda al evaluar el contenido de los tweets, ya que los hashtags se pueden perder al momento de limpiar el texto de los mismos, el contenido es una lista de strings que representan el hashtag por lo que simplemente se pueden concatenar en un único string y separarlos por comas."
   ]
  },
  {
   "cell_type": "code",
   "execution_count": 18,
   "metadata": {},
   "outputs": [
    {
     "name": "stdout",
     "output_type": "stream",
     "text": [
      "No se encontraron listas NO VACIAS en la columna 'cashtags'\n"
     ]
    }
   ],
   "source": [
    "# Mostrar todo el contenido de un registro de la variable 'cashtags'\n",
    "non_empty_cashtags = traficogt_df[traficogt_df['cashtags'].apply(lambda x: isinstance(x, list) and len(x) > 0)]['cashtags']\n",
    "if non_empty_cashtags.shape[0] > 0:\n",
    "    print(\"Contenido de un registro de la variable 'cashtags':\")\n",
    "    display(non_empty_cashtags.iloc[0])\n",
    "else:\n",
    "    print(\"No se encontraron listas NO VACIAS en la columna 'cashtags'\")"
   ]
  },
  {
   "cell_type": "markdown",
   "metadata": {},
   "source": [
    "Esta variable se eliminará ya que no hay ningun registro con una lista con contenido, por lo tanto no es relevante."
   ]
  },
  {
   "cell_type": "code",
   "execution_count": 19,
   "metadata": {},
   "outputs": [
    {
     "name": "stdout",
     "output_type": "stream",
     "text": [
      "Contenido de un registro de la variable 'mentionedUsers':\n"
     ]
    },
    {
     "data": {
      "text/plain": [
       "[{'id': 783345301256073216,\n",
       "  'id_str': '783345301256073216',\n",
       "  'username': 'CC_Guatemala',\n",
       "  'displayname': 'CC Guatemala',\n",
       "  '_type': 'snscrape.modules.twitter.UserRef'}]"
      ]
     },
     "metadata": {},
     "output_type": "display_data"
    }
   ],
   "source": [
    "# Mostrar todo el contenido de un registro de la variable 'mentionedUsers'\n",
    "non_empty_mentionedUsers = traficogt_df[traficogt_df['mentionedUsers'].apply(lambda x: isinstance(x, list) and len(x) > 0)]['mentionedUsers']\n",
    "if non_empty_mentionedUsers.shape[0] > 0:\n",
    "    print(\"Contenido de un registro de la variable 'mentionedUsers':\")\n",
    "    display(non_empty_mentionedUsers.iloc[0])\n",
    "else:\n",
    "    print(\"No se encontraron listas NO VACIAS en la columna 'mentionedUsers'\")"
   ]
  },
  {
   "cell_type": "markdown",
   "metadata": {},
   "source": [
    "Esta variable es un tanto compleja pues muestra que es una lista de diccionarios de usuarios, cada diccionario presenta una estructura similar a `inReplyToUser`.\n",
    "Por lo tanto en este caso conservar solo el username de cada diccionario sera la mejor opcion para terminar con un único string con los nombres concatenados separados por comas."
   ]
  },
  {
   "cell_type": "code",
   "execution_count": 20,
   "metadata": {},
   "outputs": [
    {
     "name": "stdout",
     "output_type": "stream",
     "text": [
      "Contenido de un registro de la variable 'links':\n"
     ]
    },
    {
     "data": {
      "text/plain": [
       "[{'url': 'https://www.prensalibre.com/guatemala/justicia/la-corte-de-constitucionalidad-ordena-al-renap-que-le-extienda-dpi-a-la-familia-rusa-bitkov-condenados-por-uso-de-documentos-falsos-breaking/',\n",
       "  'text': 'prensalibre.com/guatemala/just…',\n",
       "  'tcourl': 'https://t.co/0J24ZCXJ2c'}]"
      ]
     },
     "metadata": {},
     "output_type": "display_data"
    }
   ],
   "source": [
    "# Mostrar todo el contenido de un registro de la variable 'links'\n",
    "non_empty_links = traficogt_df[traficogt_df['links'].apply(lambda x: isinstance(x, list) and len(x) > 0)]['links']\n",
    "if non_empty_links.shape[0] > 0:\n",
    "    print(\"Contenido de un registro de la variable 'links':\")\n",
    "    display(non_empty_links.iloc[0])\n",
    "else:\n",
    "    print(\"No se encontraron listas NO VACIAS en la columna 'links'\")"
   ]
  },
  {
   "cell_type": "markdown",
   "metadata": {},
   "source": [
    "Esta es otra variable que no aporta información relevante, pues contiene una lista de diccionarios, donde cada diccionario contiene datos relacionados a los enlaces colocados dentro del tweet."
   ]
  },
  {
   "cell_type": "markdown",
   "metadata": {},
   "source": [
    "#### Manejo de dato anidados"
   ]
  },
  {
   "cell_type": "markdown",
   "metadata": {},
   "source": [
    "Los hallazgos de la sección anterior mostraron que de las variables relacionadas a usuarios vale la pena conservar unicamente el `username`.\n",
    "\n",
    "Por otro lado las variables `links` y `cashtags` no tienen datos relevantes para este estudio por lo que serán eliminadas.\n",
    "\n",
    "Asimismo `hashtags` pasara a ser un único string con los valores de cada hashtag concatenado separado por comas siguiendo este formato **\"hashtag1, hashtag2, ..., hashtagN\"**\n",
    "\n",
    "Finalmente `mentionedUsers` pasara de ser una lista de diccionarios a un único\n",
    "string con los valores del username de cada user separado por comas siguiendo un formato similar al de `hashtags`: **\"username1, username2, ..., usernameN\"**\n",
    "\n",
    "Para ambas transformaciones de listas, en caso sean vacios, se utilizará el string **\"no aplica\"**."
   ]
  },
  {
   "cell_type": "code",
   "execution_count": 21,
   "metadata": {},
   "outputs": [],
   "source": [
    "def extract_username(value):\n",
    "    \"\"\"\n",
    "    Función que extrae el nombre de usuario de un diccionario.\n",
    "\n",
    "    Args:\n",
    "        value (dict): El diccionario de entrada.\n",
    "\n",
    "    Returns:\n",
    "        str: El nombre de usuario extraído del diccionario. \n",
    "                Si no se encuentra, retorna 'No aplica'.\n",
    "    \"\"\"\n",
    "    if isinstance(value, dict):\n",
    "        return value.get('username', 'no aplica')\n",
    "    \n",
    "    return 'no aplica'"
   ]
  },
  {
   "cell_type": "code",
   "execution_count": 22,
   "metadata": {},
   "outputs": [],
   "source": [
    "def process_list_column(value):\n",
    "    \"\"\"\n",
    "    Función que procesa una lista de diccionarios y extrae el nombre de usuario de cada uno.\n",
    "\n",
    "    Args:\n",
    "        value (list): La lista de diccionarios de entrada.\n",
    "\n",
    "    Returns:\n",
    "        str: El nombre de usuario extraído de cada diccionario, separados por comas. \n",
    "                Si no se encuentra, retorna 'No aplica'.\n",
    "    \"\"\"\n",
    "    if isinstance(value, list):\n",
    "        # Si la lista está vacía, retornar 'No aplica'\n",
    "        if len(value) == 0:\n",
    "            return 'no aplica'\n",
    "        \n",
    "        # Si la lista contiene strings, concatenarlos\n",
    "        if all(isinstance(i, str) for i in value):\n",
    "            return ', '.join(value)\n",
    "        \n",
    "        # Si la lista contiene diccionarios, extraer el username\n",
    "        elif all(isinstance(i, dict) for i in value):\n",
    "            return ', '.join([i.get('username', 'No aplica') for i in value])\n",
    "        \n",
    "    return 'no aplica'"
   ]
  },
  {
   "cell_type": "code",
   "execution_count": 23,
   "metadata": {},
   "outputs": [],
   "source": [
    "# Aplicar la función extract_username a las columnas con diccionarios\n",
    "traficogt_df['user_username'] = traficogt_df['user'].apply(extract_username)\n",
    "traficogt_df['inReplyToUser_username'] = traficogt_df['inReplyToUser'].apply(extract_username)"
   ]
  },
  {
   "cell_type": "code",
   "execution_count": 24,
   "metadata": {},
   "outputs": [],
   "source": [
    "# Aplicar la función process_list_column a las columnas con listas\n",
    "traficogt_df['hashtags_str'] = traficogt_df['hashtags'].apply(process_list_column)\n",
    "traficogt_df['mentionedUsers_str'] = traficogt_df['mentionedUsers'].apply(process_list_column)"
   ]
  },
  {
   "cell_type": "code",
   "execution_count": 25,
   "metadata": {},
   "outputs": [
    {
     "data": {
      "text/html": [
       "<div>\n",
       "<style scoped>\n",
       "    .dataframe tbody tr th:only-of-type {\n",
       "        vertical-align: middle;\n",
       "    }\n",
       "\n",
       "    .dataframe tbody tr th {\n",
       "        vertical-align: top;\n",
       "    }\n",
       "\n",
       "    .dataframe thead th {\n",
       "        text-align: right;\n",
       "    }\n",
       "</style>\n",
       "<table border=\"1\" class=\"dataframe\">\n",
       "  <thead>\n",
       "    <tr style=\"text-align: right;\">\n",
       "      <th></th>\n",
       "      <th>user</th>\n",
       "      <th>inReplyToUser</th>\n",
       "      <th>hashtags</th>\n",
       "      <th>mentionedUsers</th>\n",
       "    </tr>\n",
       "  </thead>\n",
       "  <tbody>\n",
       "    <tr>\n",
       "      <th>0</th>\n",
       "      <td>traficogt</td>\n",
       "      <td>no aplica</td>\n",
       "      <td>no aplica</td>\n",
       "      <td>no aplica</td>\n",
       "    </tr>\n",
       "    <tr>\n",
       "      <th>1</th>\n",
       "      <td>monymmorales</td>\n",
       "      <td>no aplica</td>\n",
       "      <td>no aplica</td>\n",
       "      <td>CC_Guatemala</td>\n",
       "    </tr>\n",
       "    <tr>\n",
       "      <th>2</th>\n",
       "      <td>animaldgalaccia</td>\n",
       "      <td>PNCdeGuatemala</td>\n",
       "      <td>no aplica</td>\n",
       "      <td>PNCdeGuatemala, mingobguate, FJimenezmingob, d...</td>\n",
       "    </tr>\n",
       "    <tr>\n",
       "      <th>3</th>\n",
       "      <td>EstacionDobleA</td>\n",
       "      <td>EstacionDobleA</td>\n",
       "      <td>no aplica</td>\n",
       "      <td>amilcarmontejo, AztecaNoticiaGT, BancadaSemill...</td>\n",
       "    </tr>\n",
       "    <tr>\n",
       "      <th>4</th>\n",
       "      <td>CubReserva</td>\n",
       "      <td>CubReserva</td>\n",
       "      <td>no aplica</td>\n",
       "      <td>soy_502, AztecaNoticiaGT, CONAPgt, DenunciaEMP...</td>\n",
       "    </tr>\n",
       "  </tbody>\n",
       "</table>\n",
       "</div>"
      ],
      "text/plain": [
       "              user   inReplyToUser   hashtags  \\\n",
       "0        traficogt       no aplica  no aplica   \n",
       "1     monymmorales       no aplica  no aplica   \n",
       "2  animaldgalaccia  PNCdeGuatemala  no aplica   \n",
       "3   EstacionDobleA  EstacionDobleA  no aplica   \n",
       "4       CubReserva      CubReserva  no aplica   \n",
       "\n",
       "                                      mentionedUsers  \n",
       "0                                          no aplica  \n",
       "1                                       CC_Guatemala  \n",
       "2  PNCdeGuatemala, mingobguate, FJimenezmingob, d...  \n",
       "3  amilcarmontejo, AztecaNoticiaGT, BancadaSemill...  \n",
       "4  soy_502, AztecaNoticiaGT, CONAPgt, DenunciaEMP...  "
      ]
     },
     "execution_count": 25,
     "metadata": {},
     "output_type": "execute_result"
    }
   ],
   "source": [
    "# Limpiar las columnas con diccionarios y listas originales \n",
    "# Eliminar las columnas originales \n",
    "traficogt_df = traficogt_df.drop(columns=dict_columns + list_columns)\n",
    "\n",
    "# Renombrar las columnas procesadas para que tengan el mismo nombre que las originales\n",
    "traficogt_df = traficogt_df.rename(columns={\n",
    "    'user_username': 'user',\n",
    "    'inReplyToUser_username': 'inReplyToUser',\n",
    "    'hashtags_str': 'hashtags',\n",
    "    'mentionedUsers_str': 'mentionedUsers'\n",
    "})\n",
    "\n",
    "# Mostrar las primeras filas del DataFrame procesado\n",
    "traficogt_df[['user', 'inReplyToUser', 'hashtags', 'mentionedUsers']].head()"
   ]
  },
  {
   "cell_type": "markdown",
   "metadata": {},
   "source": [
    "Ahora las variables con datos anidados pasaron a ser strings mas faciles de procesar."
   ]
  },
  {
   "cell_type": "markdown",
   "metadata": {},
   "source": [
    "### Idiomas de Tweets"
   ]
  },
  {
   "cell_type": "markdown",
   "metadata": {},
   "source": [
    "Anteriormente se encontró que la variable `lang`, que indica el idioma en el que está escrito el tweet, contiene al menos **24 valores únicos**. Esto sugiere que varios tweets no están escritos en español, lo que podría afectar la coherencia del análisis si el contenido en otros idiomas no es relevante o comprensible. Con el fin de garantizar la consistencia del análisis y evitar posibles sesgos, se evaluaran los diferentes idiomas presentes y el contenido de los tweets correspondientes. Este análisis permitirá decidir si es conveniente eliminar los tweets en otros idiomas o, en su defecto, conservar aquellos que puedan aportar información valiosa, como los escritos en inglés."
   ]
  },
  {
   "cell_type": "markdown",
   "metadata": {},
   "source": [
    "#### Identificación de Idiomas"
   ]
  },
  {
   "cell_type": "code",
   "execution_count": 26,
   "metadata": {},
   "outputs": [
    {
     "data": {
      "text/plain": [
       "lang\n",
       "es     5066\n",
       "qme     340\n",
       "en       51\n",
       "qam      40\n",
       "pt       32\n",
       "und      24\n",
       "it        7\n",
       "ca        6\n",
       "in        5\n",
       "tl        4\n",
       "eu        3\n",
       "qht       3\n",
       "fr        2\n",
       "lt        2\n",
       "ht        2\n",
       "et        2\n",
       "lv        2\n",
       "cs        2\n",
       "art       2\n",
       "da        2\n",
       "de        1\n",
       "tr        1\n",
       "nl        1\n",
       "qst       1\n",
       "Name: count, dtype: int64"
      ]
     },
     "metadata": {},
     "output_type": "display_data"
    }
   ],
   "source": [
    "# Obtener los valores únicos de la columna 'lang' y el conteo de filas por valor\n",
    "lang_counts = traficogt_df['lang'].value_counts()\n",
    "display(lang_counts)"
   ]
  },
  {
   "cell_type": "markdown",
   "metadata": {},
   "source": [
    "Los Idiomas únicos encontrados en la columna `lang` son:\n",
    "- es (español)\n",
    "- und (indefinido)\n",
    "- en (inglés)\n",
    "- da (danés)\n",
    "- ca (catalán)\n",
    "- cs (checo)\n",
    "- it (italiano)\n",
    "- lv (letón)\n",
    "- de (alemán)\n",
    "- et (estonio)\n",
    "- pt (portugués)\n",
    "- tl (tagalo)\n",
    "- in (indonesio)\n",
    "- ht (haitiano)\n",
    "- lt (lituano)\n",
    "- tr (turco)\n",
    "- eu (euskera)\n",
    "- fr (francés)\n",
    "- nl (neerlandés)\n",
    "- art (emojis)\n",
    "\n",
    "**Idiomas sin definicion clara**\n",
    "- qst\n",
    "- qme\n",
    "- qam\n",
    "- qht\n",
    "Puede ser que estos sean tipos que Twitter definiera, como un tipo de dato personalizado.\n",
    "\n",
    "Es evidente que la mayoria de estos idiomas tienen pocos tweets relacionados, con excepcion de qme con 340."
   ]
  },
  {
   "cell_type": "markdown",
   "metadata": {},
   "source": [
    "#### Análsis de contenidos"
   ]
  },
  {
   "cell_type": "code",
   "execution_count": 27,
   "metadata": {},
   "outputs": [
    {
     "data": {
      "text/html": [
       "<div>\n",
       "<style scoped>\n",
       "    .dataframe tbody tr th:only-of-type {\n",
       "        vertical-align: middle;\n",
       "    }\n",
       "\n",
       "    .dataframe tbody tr th {\n",
       "        vertical-align: top;\n",
       "    }\n",
       "\n",
       "    .dataframe thead th {\n",
       "        text-align: right;\n",
       "    }\n",
       "</style>\n",
       "<table border=\"1\" class=\"dataframe\">\n",
       "  <thead>\n",
       "    <tr style=\"text-align: right;\">\n",
       "      <th></th>\n",
       "      <th>lang</th>\n",
       "      <th>rawContent</th>\n",
       "    </tr>\n",
       "  </thead>\n",
       "  <tbody>\n",
       "    <tr>\n",
       "      <th>0</th>\n",
       "      <td>art</td>\n",
       "      <td>🤡</td>\n",
       "    </tr>\n",
       "    <tr>\n",
       "      <th>1</th>\n",
       "      <td>ca</td>\n",
       "      <td>@traficogt @BArevalodeLeon LA JAZMIN DE LA VERG@ NO HA DE PODER DORMIR🫵🤡🫵🤡🫵🤡😊👍</td>\n",
       "    </tr>\n",
       "    <tr>\n",
       "      <th>2</th>\n",
       "      <td>cs</td>\n",
       "      <td>@traficogt Netcetero............M</td>\n",
       "    </tr>\n",
       "    <tr>\n",
       "      <th>3</th>\n",
       "      <td>da</td>\n",
       "      <td>@Tito8829 @PrensaComunitar @traficogt Vuele ALV netcenter</td>\n",
       "    </tr>\n",
       "    <tr>\n",
       "      <th>4</th>\n",
       "      <td>de</td>\n",
       "      <td>@traficogt Fraaaaaude</td>\n",
       "    </tr>\n",
       "    <tr>\n",
       "      <th>5</th>\n",
       "      <td>en</td>\n",
       "      <td>@lahoragt @traficogt “Posibles”</td>\n",
       "    </tr>\n",
       "    <tr>\n",
       "      <th>6</th>\n",
       "      <td>es</td>\n",
       "      <td>Es comprensible la resolución... El ruso sabe de engrasar maquinaria.</td>\n",
       "    </tr>\n",
       "    <tr>\n",
       "      <th>7</th>\n",
       "      <td>et</td>\n",
       "      <td>@traficogt Ja ja ja ja ja ja Tremendo Idota https://t.co/29JB8nf7jY</td>\n",
       "    </tr>\n",
       "    <tr>\n",
       "      <th>8</th>\n",
       "      <td>eu</td>\n",
       "      <td>@traficogt @AlvaroArzuE basura</td>\n",
       "    </tr>\n",
       "    <tr>\n",
       "      <th>9</th>\n",
       "      <td>fr</td>\n",
       "      <td>@hshetemul @traficogt La Chancha</td>\n",
       "    </tr>\n",
       "    <tr>\n",
       "      <th>10</th>\n",
       "      <td>ht</td>\n",
       "      <td>@Rodrigo74828679 @cc_abogado @eP_investiga @traficogt Net-fafero</td>\n",
       "    </tr>\n",
       "    <tr>\n",
       "      <th>11</th>\n",
       "      <td>in</td>\n",
       "      <td>@julioserrano @traficogt @FyGEditores @BArevalodeLeon Wajahaja</td>\n",
       "    </tr>\n",
       "    <tr>\n",
       "      <th>12</th>\n",
       "      <td>it</td>\n",
       "      <td>@traficogt Ridi https://t.co/JDQrdks9ww</td>\n",
       "    </tr>\n",
       "    <tr>\n",
       "      <th>13</th>\n",
       "      <td>lt</td>\n",
       "      <td>@traficogt Pajas!!</td>\n",
       "    </tr>\n",
       "    <tr>\n",
       "      <th>14</th>\n",
       "      <td>lv</td>\n",
       "      <td>@traficogt Net net net ni nombre real tiene</td>\n",
       "    </tr>\n",
       "    <tr>\n",
       "      <th>15</th>\n",
       "      <td>nl</td>\n",
       "      <td>@MilesTurne70424 @GucciWinterbear @pgp1claudemir @Claudemir0911 @crazYminDlabS @filthindabeauty @traficogt @teddyallen @LlamarseRaffa @syl_guru @kielysinead80 @j00ngse @jake_peck @NoraBra88894205 @piratear3 @BafarawaK @EOdunayomi @PaulaBitencourt @lucoates2 @valeriaroblesbb @joshparker94 💸 Get prizes in my profile   💸  UID: KwkXUwLC5IkW</td>\n",
       "    </tr>\n",
       "    <tr>\n",
       "      <th>16</th>\n",
       "      <td>pt</td>\n",
       "      <td>@lahoragt @traficogt ESTO DA ASCO \\n 🤮🤮🤮🤮🤮🤮🤮🤮</td>\n",
       "    </tr>\n",
       "    <tr>\n",
       "      <th>17</th>\n",
       "      <td>qam</td>\n",
       "      <td>@amilcarmontejo @AztecaNoticiaGT @BancadaSemilla @BArevalodeLeon @diputadojp @EmisorasUnidas @eP_investiga @ImpactoNoticiGT @lahoragt @mingobguate @PrensaComunitar @Transito_mixco @DGTguate @PMT_VILLANUEVA @InfoTransitoGt @traficogt @PMT_SanJuanSac @PMTSanLucasSac @YenerPlaza</td>\n",
       "    </tr>\n",
       "    <tr>\n",
       "      <th>18</th>\n",
       "      <td>qht</td>\n",
       "      <td>#AdiosConsuelo</td>\n",
       "    </tr>\n",
       "    <tr>\n",
       "      <th>19</th>\n",
       "      <td>qme</td>\n",
       "      <td>@PNCdeGuatemala @mingobguate @FJimenezmingob @diegoedeleon @amilcarmontejo @traficogt \\n\\n🚨🚨🚨🚨🚨</td>\n",
       "    </tr>\n",
       "    <tr>\n",
       "      <th>20</th>\n",
       "      <td>qst</td>\n",
       "      <td>...</td>\n",
       "    </tr>\n",
       "    <tr>\n",
       "      <th>21</th>\n",
       "      <td>tl</td>\n",
       "      <td>@mmendoza_GT @traficogt Tipo sin ninguna moral!</td>\n",
       "    </tr>\n",
       "    <tr>\n",
       "      <th>22</th>\n",
       "      <td>tr</td>\n",
       "      <td>@monymmorales @traficogt El arzu https://t.co/pMSuzfGnlH</td>\n",
       "    </tr>\n",
       "    <tr>\n",
       "      <th>23</th>\n",
       "      <td>und</td>\n",
       "      <td>@Noti_Atlantico @muniguate @bomberosmuni @BVoluntariosGT @TelediarioGT @T13Noticias @traficogt xxx</td>\n",
       "    </tr>\n",
       "  </tbody>\n",
       "</table>\n",
       "</div>"
      ],
      "text/plain": [
       "   lang  \\\n",
       "0   art   \n",
       "1    ca   \n",
       "2    cs   \n",
       "3    da   \n",
       "4    de   \n",
       "5    en   \n",
       "6    es   \n",
       "7    et   \n",
       "8    eu   \n",
       "9    fr   \n",
       "10   ht   \n",
       "11   in   \n",
       "12   it   \n",
       "13   lt   \n",
       "14   lv   \n",
       "15   nl   \n",
       "16   pt   \n",
       "17  qam   \n",
       "18  qht   \n",
       "19  qme   \n",
       "20  qst   \n",
       "21   tl   \n",
       "22   tr   \n",
       "23  und   \n",
       "\n",
       "                                                                                                                                                                                                                                                                                                                                            rawContent  \n",
       "0                                                                                                                                                                                                                                                                                                                                                    🤡  \n",
       "1                                                                                                                                                                                                                                                                       @traficogt @BArevalodeLeon LA JAZMIN DE LA VERG@ NO HA DE PODER DORMIR🫵🤡🫵🤡🫵🤡😊👍  \n",
       "2                                                                                                                                                                                                                                                                                                                    @traficogt Netcetero............M  \n",
       "3                                                                                                                                                                                                                                                                                            @Tito8829 @PrensaComunitar @traficogt Vuele ALV netcenter  \n",
       "4                                                                                                                                                                                                                                                                                                                                @traficogt Fraaaaaude  \n",
       "5                                                                                                                                                                                                                                                                                                                      @lahoragt @traficogt “Posibles”  \n",
       "6                                                                                                                                                                                                                                                                                Es comprensible la resolución... El ruso sabe de engrasar maquinaria.  \n",
       "7                                                                                                                                                                                                                                                                                  @traficogt Ja ja ja ja ja ja Tremendo Idota https://t.co/29JB8nf7jY  \n",
       "8                                                                                                                                                                                                                                                                                                                       @traficogt @AlvaroArzuE basura  \n",
       "9                                                                                                                                                                                                                                                                                                                     @hshetemul @traficogt La Chancha  \n",
       "10                                                                                                                                                                                                                                                                                    @Rodrigo74828679 @cc_abogado @eP_investiga @traficogt Net-fafero  \n",
       "11                                                                                                                                                                                                                                                                                      @julioserrano @traficogt @FyGEditores @BArevalodeLeon Wajahaja  \n",
       "12                                                                                                                                                                                                                                                                                                             @traficogt Ridi https://t.co/JDQrdks9ww  \n",
       "13                                                                                                                                                                                                                                                                                                                                  @traficogt Pajas!!  \n",
       "14                                                                                                                                                                                                                                                                                                         @traficogt Net net net ni nombre real tiene  \n",
       "15  @MilesTurne70424 @GucciWinterbear @pgp1claudemir @Claudemir0911 @crazYminDlabS @filthindabeauty @traficogt @teddyallen @LlamarseRaffa @syl_guru @kielysinead80 @j00ngse @jake_peck @NoraBra88894205 @piratear3 @BafarawaK @EOdunayomi @PaulaBitencourt @lucoates2 @valeriaroblesbb @joshparker94 💸 Get prizes in my profile   💸  UID: KwkXUwLC5IkW  \n",
       "16                                                                                                                                                                                                                                                                                                       @lahoragt @traficogt ESTO DA ASCO \\n 🤮🤮🤮🤮🤮🤮🤮🤮  \n",
       "17                                                                @amilcarmontejo @AztecaNoticiaGT @BancadaSemilla @BArevalodeLeon @diputadojp @EmisorasUnidas @eP_investiga @ImpactoNoticiGT @lahoragt @mingobguate @PrensaComunitar @Transito_mixco @DGTguate @PMT_VILLANUEVA @InfoTransitoGt @traficogt @PMT_SanJuanSac @PMTSanLucasSac @YenerPlaza  \n",
       "18                                                                                                                                                                                                                                                                                                                                      #AdiosConsuelo  \n",
       "19                                                                                                                                                                                                                                                     @PNCdeGuatemala @mingobguate @FJimenezmingob @diegoedeleon @amilcarmontejo @traficogt \\n\\n🚨🚨🚨🚨🚨  \n",
       "20                                                                                                                                                                                                                                                                                                                                                 ...  \n",
       "21                                                                                                                                                                                                                                                                                                     @mmendoza_GT @traficogt Tipo sin ninguna moral!  \n",
       "22                                                                                                                                                                                                                                                                                            @monymmorales @traficogt El arzu https://t.co/pMSuzfGnlH  \n",
       "23                                                                                                                                                                                                                                                  @Noti_Atlantico @muniguate @bomberosmuni @BVoluntariosGT @TelediarioGT @T13Noticias @traficogt xxx  "
      ]
     },
     "metadata": {},
     "output_type": "display_data"
    }
   ],
   "source": [
    "# Obtener el primer tweet para cada idioma\n",
    "first_tweets_by_lang = traficogt_df.groupby('lang')[['lang','rawContent']].apply(lambda x: x.iloc[0]).reset_index(drop=True)\n",
    "\n",
    "# Mostrar los primeros tweets de cada idioma\n",
    "pd.set_option('display.max_colwidth', None)\n",
    "display(first_tweets_by_lang)\n",
    "pd.reset_option('display.max_colwidth')"
   ]
  },
  {
   "cell_type": "markdown",
   "metadata": {},
   "source": [
    "La variable `lang`, que indica el idioma en el que está escrito cada tweet, inicialmente mostró al menos **24 valores únicos**, lo que sugirió la presencia de tweets en varios idiomas. Sin embargo, tras un análisis detallado de los tweets, se descubrió que muchos de ellos, aunque clasificados como otros idiomas, realmente están escritos en español o contienen elementos de jerga, menciones a otros usuarios, hashtags y emojis, lo que dificulta una correcta clasificación por parte del algoritmo de detección de idiomas de X.\n",
    "\n",
    "Dado que la mayoría de los tweets están en español o contienen suficiente contexto en español (dejando a un lado los de SPAM), se decidió conservar todos los tweets, independientemente del valor en la columna `lang`. Esto asegura que no se pierda información valiosa para el análisis del tráfico, y además minimiza el riesgo de eliminar datos relevantes por una detección incorrecta del idioma."
   ]
  },
  {
   "cell_type": "markdown",
   "metadata": {},
   "source": [
    "### Selección de Variables"
   ]
  },
  {
   "cell_type": "markdown",
   "metadata": {},
   "source": [
    "En las etapas previas de este proceso, se realizó una limpieza exhaustiva del conjunto de datos original, que inicialmente contenía numerosas columnas con datos incompletos o irrelevantes para el análisis del tráfico. Se eliminaron aquellas columnas con grandes cantidades de valores nulos, así como las que no aportaban información valiosa para el contexto de estudio. Ahora, con un conjunto de datos más depurado, el siguiente paso consiste en identificar y seleccionar las variables más relevantes para el análisis. El objetivo es enfocarse únicamente en aquellas que proporcionen insights significativos sobre las interacciones de los usuarios, las menciones, el contenido de los tweets y la actividad relacionada con el tráfico en la ciudad."
   ]
  },
  {
   "cell_type": "markdown",
   "metadata": {},
   "source": [
    "#### Identificación de Variables Restantes"
   ]
  },
  {
   "cell_type": "code",
   "execution_count": 28,
   "metadata": {},
   "outputs": [
    {
     "name": "stdout",
     "output_type": "stream",
     "text": [
      "\n",
      "El DataFrame tiene 5601 filas (registros) y 22 columnas (variables)\n",
      "\n"
     ]
    },
    {
     "data": {
      "text/html": [
       "<div>\n",
       "<style scoped>\n",
       "    .dataframe tbody tr th:only-of-type {\n",
       "        vertical-align: middle;\n",
       "    }\n",
       "\n",
       "    .dataframe tbody tr th {\n",
       "        vertical-align: top;\n",
       "    }\n",
       "\n",
       "    .dataframe thead th {\n",
       "        text-align: right;\n",
       "    }\n",
       "</style>\n",
       "<table border=\"1\" class=\"dataframe\">\n",
       "  <thead>\n",
       "    <tr style=\"text-align: right;\">\n",
       "      <th></th>\n",
       "      <th>Nombre Columna</th>\n",
       "      <th>Tipo de Dato</th>\n",
       "      <th>Valores Nulos (%)</th>\n",
       "      <th>Valores Únicos</th>\n",
       "    </tr>\n",
       "  </thead>\n",
       "  <tbody>\n",
       "    <tr>\n",
       "      <th>0</th>\n",
       "      <td>id</td>\n",
       "      <td>int64</td>\n",
       "      <td>0.0</td>\n",
       "      <td>5593</td>\n",
       "    </tr>\n",
       "    <tr>\n",
       "      <th>1</th>\n",
       "      <td>id_str</td>\n",
       "      <td>int64</td>\n",
       "      <td>0.0</td>\n",
       "      <td>5593</td>\n",
       "    </tr>\n",
       "    <tr>\n",
       "      <th>2</th>\n",
       "      <td>url</td>\n",
       "      <td>object</td>\n",
       "      <td>0.0</td>\n",
       "      <td>5593</td>\n",
       "    </tr>\n",
       "    <tr>\n",
       "      <th>3</th>\n",
       "      <td>date</td>\n",
       "      <td>datetime64[ns, UTC]</td>\n",
       "      <td>0.0</td>\n",
       "      <td>5584</td>\n",
       "    </tr>\n",
       "    <tr>\n",
       "      <th>4</th>\n",
       "      <td>lang</td>\n",
       "      <td>object</td>\n",
       "      <td>0.0</td>\n",
       "      <td>24</td>\n",
       "    </tr>\n",
       "    <tr>\n",
       "      <th>5</th>\n",
       "      <td>rawContent</td>\n",
       "      <td>object</td>\n",
       "      <td>0.0</td>\n",
       "      <td>5585</td>\n",
       "    </tr>\n",
       "    <tr>\n",
       "      <th>6</th>\n",
       "      <td>replyCount</td>\n",
       "      <td>int64</td>\n",
       "      <td>0.0</td>\n",
       "      <td>196</td>\n",
       "    </tr>\n",
       "    <tr>\n",
       "      <th>7</th>\n",
       "      <td>retweetCount</td>\n",
       "      <td>int64</td>\n",
       "      <td>0.0</td>\n",
       "      <td>349</td>\n",
       "    </tr>\n",
       "    <tr>\n",
       "      <th>8</th>\n",
       "      <td>likeCount</td>\n",
       "      <td>int64</td>\n",
       "      <td>0.0</td>\n",
       "      <td>502</td>\n",
       "    </tr>\n",
       "    <tr>\n",
       "      <th>9</th>\n",
       "      <td>quoteCount</td>\n",
       "      <td>int64</td>\n",
       "      <td>0.0</td>\n",
       "      <td>122</td>\n",
       "    </tr>\n",
       "    <tr>\n",
       "      <th>10</th>\n",
       "      <td>bookmarkedCount</td>\n",
       "      <td>int64</td>\n",
       "      <td>0.0</td>\n",
       "      <td>75</td>\n",
       "    </tr>\n",
       "    <tr>\n",
       "      <th>11</th>\n",
       "      <td>conversationId</td>\n",
       "      <td>int64</td>\n",
       "      <td>0.0</td>\n",
       "      <td>3182</td>\n",
       "    </tr>\n",
       "    <tr>\n",
       "      <th>12</th>\n",
       "      <td>conversationIdStr</td>\n",
       "      <td>int64</td>\n",
       "      <td>0.0</td>\n",
       "      <td>3182</td>\n",
       "    </tr>\n",
       "    <tr>\n",
       "      <th>13</th>\n",
       "      <td>viewCount</td>\n",
       "      <td>float64</td>\n",
       "      <td>0.0</td>\n",
       "      <td>1844</td>\n",
       "    </tr>\n",
       "    <tr>\n",
       "      <th>14</th>\n",
       "      <td>inReplyToTweetId</td>\n",
       "      <td>object</td>\n",
       "      <td>0.0</td>\n",
       "      <td>2291</td>\n",
       "    </tr>\n",
       "    <tr>\n",
       "      <th>15</th>\n",
       "      <td>inReplyToTweetIdStr</td>\n",
       "      <td>object</td>\n",
       "      <td>0.0</td>\n",
       "      <td>2291</td>\n",
       "    </tr>\n",
       "    <tr>\n",
       "      <th>16</th>\n",
       "      <td>source</td>\n",
       "      <td>object</td>\n",
       "      <td>0.0</td>\n",
       "      <td>18</td>\n",
       "    </tr>\n",
       "    <tr>\n",
       "      <th>17</th>\n",
       "      <td>_type</td>\n",
       "      <td>object</td>\n",
       "      <td>0.0</td>\n",
       "      <td>1</td>\n",
       "    </tr>\n",
       "    <tr>\n",
       "      <th>18</th>\n",
       "      <td>user</td>\n",
       "      <td>object</td>\n",
       "      <td>0.0</td>\n",
       "      <td>2072</td>\n",
       "    </tr>\n",
       "    <tr>\n",
       "      <th>19</th>\n",
       "      <td>inReplyToUser</td>\n",
       "      <td>object</td>\n",
       "      <td>0.0</td>\n",
       "      <td>683</td>\n",
       "    </tr>\n",
       "    <tr>\n",
       "      <th>20</th>\n",
       "      <td>hashtags</td>\n",
       "      <td>object</td>\n",
       "      <td>0.0</td>\n",
       "      <td>270</td>\n",
       "    </tr>\n",
       "    <tr>\n",
       "      <th>21</th>\n",
       "      <td>mentionedUsers</td>\n",
       "      <td>object</td>\n",
       "      <td>0.0</td>\n",
       "      <td>1522</td>\n",
       "    </tr>\n",
       "  </tbody>\n",
       "</table>\n",
       "</div>"
      ],
      "text/plain": [
       "         Nombre Columna         Tipo de Dato  Valores Nulos (%)  \\\n",
       "0                    id                int64                0.0   \n",
       "1                id_str                int64                0.0   \n",
       "2                   url               object                0.0   \n",
       "3                  date  datetime64[ns, UTC]                0.0   \n",
       "4                  lang               object                0.0   \n",
       "5            rawContent               object                0.0   \n",
       "6            replyCount                int64                0.0   \n",
       "7          retweetCount                int64                0.0   \n",
       "8             likeCount                int64                0.0   \n",
       "9            quoteCount                int64                0.0   \n",
       "10      bookmarkedCount                int64                0.0   \n",
       "11       conversationId                int64                0.0   \n",
       "12    conversationIdStr                int64                0.0   \n",
       "13            viewCount              float64                0.0   \n",
       "14     inReplyToTweetId               object                0.0   \n",
       "15  inReplyToTweetIdStr               object                0.0   \n",
       "16               source               object                0.0   \n",
       "17                _type               object                0.0   \n",
       "18                 user               object                0.0   \n",
       "19        inReplyToUser               object                0.0   \n",
       "20             hashtags               object                0.0   \n",
       "21       mentionedUsers               object                0.0   \n",
       "\n",
       "    Valores Únicos  \n",
       "0             5593  \n",
       "1             5593  \n",
       "2             5593  \n",
       "3             5584  \n",
       "4               24  \n",
       "5             5585  \n",
       "6              196  \n",
       "7              349  \n",
       "8              502  \n",
       "9              122  \n",
       "10              75  \n",
       "11            3182  \n",
       "12            3182  \n",
       "13            1844  \n",
       "14            2291  \n",
       "15            2291  \n",
       "16              18  \n",
       "17               1  \n",
       "18            2072  \n",
       "19             683  \n",
       "20             270  \n",
       "21            1522  "
      ]
     },
     "metadata": {},
     "output_type": "display_data"
    }
   ],
   "source": [
    "get_DF_info(traficogt_df)"
   ]
  },
  {
   "cell_type": "markdown",
   "metadata": {},
   "source": [
    "**Variables a conservar:**\n",
    "- `id`: Útil para identificar tweets únicos.\n",
    "- `date`: Importante para el análisis temporal.\n",
    "- `rawContent`: Texto del tweet, esencial para el análisis de contenido.\n",
    "- `user`: Importante para análisis de interacciones y usuarios, con esto asociamos el tweet a un usuario.\n",
    "- `hashtags`, `mentionedUsers`: Información clave para el análisis de redes, con esto se puede evaluar el contexto y a quienes se esta mencionando.\n",
    "- `inReplyToUser`: Importante para el análisis de redes e interacciones entre usuarios con esto se pueden evaluar mejor las interacciones, pues con el tweet se puede asociar a un usuario si es que existe.\n",
    "\n",
    "El resto de variables serán eliminadas debido a que no tienen relevancia para este análisis."
   ]
  },
  {
   "cell_type": "code",
   "execution_count": 29,
   "metadata": {},
   "outputs": [
    {
     "data": {
      "text/html": [
       "<div>\n",
       "<style scoped>\n",
       "    .dataframe tbody tr th:only-of-type {\n",
       "        vertical-align: middle;\n",
       "    }\n",
       "\n",
       "    .dataframe tbody tr th {\n",
       "        vertical-align: top;\n",
       "    }\n",
       "\n",
       "    .dataframe thead th {\n",
       "        text-align: right;\n",
       "    }\n",
       "</style>\n",
       "<table border=\"1\" class=\"dataframe\">\n",
       "  <thead>\n",
       "    <tr style=\"text-align: right;\">\n",
       "      <th></th>\n",
       "      <th>id</th>\n",
       "      <th>user</th>\n",
       "      <th>rawContent</th>\n",
       "      <th>date</th>\n",
       "      <th>hashtags</th>\n",
       "      <th>mentionedUsers</th>\n",
       "      <th>inReplyToUser</th>\n",
       "      <th>inReplyToTweetId</th>\n",
       "    </tr>\n",
       "  </thead>\n",
       "  <tbody>\n",
       "    <tr>\n",
       "      <th>0</th>\n",
       "      <td>1834236045598056867</td>\n",
       "      <td>traficogt</td>\n",
       "      <td>Es comprensible la resolución... El ruso sabe ...</td>\n",
       "      <td>2024-09-12 14:22:06+00:00</td>\n",
       "      <td>no aplica</td>\n",
       "      <td>no aplica</td>\n",
       "      <td>no aplica</td>\n",
       "      <td>no aplica</td>\n",
       "    </tr>\n",
       "    <tr>\n",
       "      <th>1</th>\n",
       "      <td>1834029142565658846</td>\n",
       "      <td>monymmorales</td>\n",
       "      <td>La corrupción de la @CC_Guatemala\\nes descarad...</td>\n",
       "      <td>2024-09-12 00:39:56+00:00</td>\n",
       "      <td>no aplica</td>\n",
       "      <td>CC_Guatemala</td>\n",
       "      <td>no aplica</td>\n",
       "      <td>no aplica</td>\n",
       "    </tr>\n",
       "    <tr>\n",
       "      <th>2</th>\n",
       "      <td>1834039491826180424</td>\n",
       "      <td>animaldgalaccia</td>\n",
       "      <td>@PNCdeGuatemala @mingobguate @FJimenezmingob @...</td>\n",
       "      <td>2024-09-12 01:21:04+00:00</td>\n",
       "      <td>no aplica</td>\n",
       "      <td>PNCdeGuatemala, mingobguate, FJimenezmingob, d...</td>\n",
       "      <td>PNCdeGuatemala</td>\n",
       "      <td>no aplica</td>\n",
       "    </tr>\n",
       "    <tr>\n",
       "      <th>3</th>\n",
       "      <td>1833963729136091179</td>\n",
       "      <td>EstacionDobleA</td>\n",
       "      <td>@amilcarmontejo @AztecaNoticiaGT @BancadaSemil...</td>\n",
       "      <td>2024-09-11 20:20:01+00:00</td>\n",
       "      <td>no aplica</td>\n",
       "      <td>amilcarmontejo, AztecaNoticiaGT, BancadaSemill...</td>\n",
       "      <td>EstacionDobleA</td>\n",
       "      <td>1833963727575781632</td>\n",
       "    </tr>\n",
       "    <tr>\n",
       "      <th>4</th>\n",
       "      <td>1833665391698092330</td>\n",
       "      <td>CubReserva</td>\n",
       "      <td>@soy_502 @AztecaNoticiaGT @CONAPgt @DenunciaEM...</td>\n",
       "      <td>2024-09-11 00:34:31+00:00</td>\n",
       "      <td>no aplica</td>\n",
       "      <td>soy_502, AztecaNoticiaGT, CONAPgt, DenunciaEMP...</td>\n",
       "      <td>CubReserva</td>\n",
       "      <td>1833664431084949760</td>\n",
       "    </tr>\n",
       "  </tbody>\n",
       "</table>\n",
       "</div>"
      ],
      "text/plain": [
       "                    id             user  \\\n",
       "0  1834236045598056867        traficogt   \n",
       "1  1834029142565658846     monymmorales   \n",
       "2  1834039491826180424  animaldgalaccia   \n",
       "3  1833963729136091179   EstacionDobleA   \n",
       "4  1833665391698092330       CubReserva   \n",
       "\n",
       "                                          rawContent  \\\n",
       "0  Es comprensible la resolución... El ruso sabe ...   \n",
       "1  La corrupción de la @CC_Guatemala\\nes descarad...   \n",
       "2  @PNCdeGuatemala @mingobguate @FJimenezmingob @...   \n",
       "3  @amilcarmontejo @AztecaNoticiaGT @BancadaSemil...   \n",
       "4  @soy_502 @AztecaNoticiaGT @CONAPgt @DenunciaEM...   \n",
       "\n",
       "                       date   hashtags  \\\n",
       "0 2024-09-12 14:22:06+00:00  no aplica   \n",
       "1 2024-09-12 00:39:56+00:00  no aplica   \n",
       "2 2024-09-12 01:21:04+00:00  no aplica   \n",
       "3 2024-09-11 20:20:01+00:00  no aplica   \n",
       "4 2024-09-11 00:34:31+00:00  no aplica   \n",
       "\n",
       "                                      mentionedUsers   inReplyToUser  \\\n",
       "0                                          no aplica       no aplica   \n",
       "1                                       CC_Guatemala       no aplica   \n",
       "2  PNCdeGuatemala, mingobguate, FJimenezmingob, d...  PNCdeGuatemala   \n",
       "3  amilcarmontejo, AztecaNoticiaGT, BancadaSemill...  EstacionDobleA   \n",
       "4  soy_502, AztecaNoticiaGT, CONAPgt, DenunciaEMP...      CubReserva   \n",
       "\n",
       "      inReplyToTweetId  \n",
       "0            no aplica  \n",
       "1            no aplica  \n",
       "2            no aplica  \n",
       "3  1833963727575781632  \n",
       "4  1833664431084949760  "
      ]
     },
     "execution_count": 29,
     "metadata": {},
     "output_type": "execute_result"
    }
   ],
   "source": [
    "columns_to_keep = ['id', 'user','rawContent', 'date', 'hashtags', 'mentionedUsers', 'inReplyToUser', 'inReplyToTweetId']\n",
    "traficogt_df = traficogt_df[columns_to_keep]\n",
    "traficogt_df.head()"
   ]
  },
  {
   "cell_type": "markdown",
   "metadata": {},
   "source": [
    "Ahora el Dataframe solo contiene las variables mas relevantes para este estudio, disminuyendo la dimensionalidad del Dataframe considerablemente."
   ]
  },
  {
   "cell_type": "markdown",
   "metadata": {},
   "source": [
    "### Limpieza y Normalización de Texto"
   ]
  },
  {
   "cell_type": "markdown",
   "metadata": {},
   "source": [
    "**Paso 1: Limpieza del Texto**\n",
    "- Eliminar URLs: Los URLs no aportan valor en el análisis de tweets, por lo que se eliminarán.\n",
    "- Eliminar caracteres especiales: Se eliminarán caracteres especiales como `#`, `@`, dígitos, y cualquier otro símbolo que no sea relevante para el contenido semántico del texto pues las menciones y hashtags ya estan almacenados en variables separadas.\n",
    "- Eliminar emoticones: Al igual que los caracteres especiales, los emoticones no son útiles en este contexto, por lo que también se eliminan.\n",
    "- Eliminacion de acentos: Se eliminarán las tildes de los textos para una mejor generalización de palabras.\n",
    "\n",
    "**Paso 2: Normalización del Texto**\n",
    "- Convertir a minúsculas: Para evitar tratar palabras como diferentes si solo varían en el uso de mayúsculas o minúsculas, todas las palabras se convertirán a minúsculas.\n",
    "\n",
    "**Paso 3: Eliminación de Palabras Vacías (Stopwords)**\n",
    "- Eliminar palabras comunes: Se eliminan las palabras vacías (stopwords) del idioma español, como `el`, `la`, `los`, etc., ya que no aportan valor en la clasificación de sentimientos o en el análisis de trafico.\n",
    "\n",
    "**Paso 4: Lematización**\n",
    "- Lematización: A diferencia del stemming, que simplemente recorta palabras, la lematización transforma cada palabra a su forma raíz adecuada según el contexto. Esto permite reducir el vocabulario manteniendo la semántica."
   ]
  },
  {
   "cell_type": "code",
   "execution_count": 30,
   "metadata": {},
   "outputs": [],
   "source": [
    "# Descargar el modelo de lenguaje en español 'es_dep_news_trf' de spaCy \n",
    "# !python -m spacy download es_dep_news_trf\n",
    "# Si desea usar otro modelo mas eficiente pero menos preciso, ejecute la siguiente línea\n",
    "#!python -m spacy download es_core_news_sm"
   ]
  },
  {
   "cell_type": "code",
   "execution_count": 31,
   "metadata": {},
   "outputs": [
    {
     "name": "stderr",
     "output_type": "stream",
     "text": [
      "[nltk_data] Downloading package stopwords to\n",
      "[nltk_data]     C:\\Users\\diego\\AppData\\Roaming\\nltk_data...\n",
      "[nltk_data]   Package stopwords is already up-to-date!\n",
      "c:\\Users\\diego\\miniconda3\\envs\\DataSci_L7\\Lib\\site-packages\\thinc\\shims\\pytorch.py:253: FutureWarning: You are using `torch.load` with `weights_only=False` (the current default value), which uses the default pickle module implicitly. It is possible to construct malicious pickle data which will execute arbitrary code during unpickling (See https://github.com/pytorch/pytorch/blob/main/SECURITY.md#untrusted-models for more details). In a future release, the default value for `weights_only` will be flipped to `True`. This limits the functions that could be executed during unpickling. Arbitrary objects will no longer be allowed to be loaded via this mode unless they are explicitly allowlisted by the user via `torch.serialization.add_safe_globals`. We recommend you start setting `weights_only=True` for any use case where you don't have full control of the loaded file. Please open an issue on GitHub for any issues related to this experimental feature.\n",
      "  model.load_state_dict(torch.load(filelike, map_location=device))\n"
     ]
    }
   ],
   "source": [
    "# Descargar stopwords en español de NLTK\n",
    "nltk.download('stopwords')\n",
    "\n",
    "# Definir las stopwords en español\n",
    "stop_words = stopwords.words('spanish')\n",
    "\n",
    "# Agregar stopwords personalizadas\n",
    "custom_stopwords = ['él', 'q']\n",
    "stop_words.extend(custom_stopwords)\n",
    "\n",
    "# Cargar el modelo de spaCy para español basado en transformadores\n",
    "nlp_es = spacy.load(\"es_dep_news_trf\")"
   ]
  },
  {
   "cell_type": "code",
   "execution_count": 32,
   "metadata": {},
   "outputs": [],
   "source": [
    "def remove_accents(text):\n",
    "    \"\"\"\n",
    "    Elimina las tildes de las vocales en un texto, sin eliminar otros caracteres como la ñ.\n",
    "    \"\"\"\n",
    "    # Mapeo de vocales con acento a vocales sin acento\n",
    "    replacements = {\n",
    "        'á': 'a',\n",
    "        'é': 'e',\n",
    "        'í': 'i',\n",
    "        'ó': 'o',\n",
    "        'ú': 'u'\n",
    "    }\n",
    "    \n",
    "    # Reemplazar las vocales con acento\n",
    "    for accented_char, regular_char in replacements.items():\n",
    "        text = text.replace(accented_char, regular_char)\n",
    "    \n",
    "    return text"
   ]
  },
  {
   "cell_type": "code",
   "execution_count": 33,
   "metadata": {},
   "outputs": [],
   "source": [
    "def clean_and_lemmatize_text(text):\n",
    "    \"\"\"\n",
    "    Función que limpia y lematiza un texto en español. \n",
    "    Elimina stopwords, menciones, hashtags, URLs, caracteres especiales y números. \n",
    "    Convierte el texto a minúsculas y lematiza las palabras.\n",
    "\n",
    "    Args:\n",
    "        text (str): El texto de entrada.\n",
    "\n",
    "    Returns:\n",
    "        str: El texto limpio y lematizado.\n",
    "    \"\"\"\n",
    "    # Eliminar \"RT\" retweets\n",
    "    text = re.sub(r'\\bRT\\b|\\brt\\b', '', text)\n",
    "\n",
    "    # Eliminar URLs\n",
    "    text = re.sub(r\"http\\S+|www\\S+|https\\S+\", '', text, flags=re.MULTILINE)\n",
    "\n",
    "    # Eliminar menciones, hashtags, caracteres especiales y números\n",
    "    text = re.sub(r'\\@\\w+|\\#|\\d+|[^\\w\\s]', '', text)\n",
    "\n",
    "    # Eliminar saltos de línea, tabulaciones y espacios extraños\n",
    "    text = re.sub(r'\\s+', ' ', text).strip()\n",
    "\n",
    "    # Convertir a minúsculas\n",
    "    text = text.lower()\n",
    "\n",
    "    # Eliminar tildes\n",
    "    text = remove_accents(text)\n",
    "\n",
    "    # Eliminar stopwords en español\n",
    "    text = ' '.join([word for word in text.split() if word not in stop_words])\n",
    "    \n",
    "    # Procesar el texto con spaCy para lematización con transformadores\n",
    "    doc = nlp_es(text)\n",
    "    \n",
    "    lemmatized_text = ' '.join([token.lemma_ for token in doc])\n",
    "    \n",
    "    # Re-eliminar tildes\n",
    "    lemmatized_text = remove_accents(lemmatized_text)\n",
    "\n",
    "    # Re-eliminar stopwords en español\n",
    "    lemmatized_text = ' '.join([word for word in lemmatized_text.split() if word not in stop_words])\n",
    "\n",
    "    return lemmatized_text"
   ]
  },
  {
   "cell_type": "code",
   "execution_count": 34,
   "metadata": {},
   "outputs": [
    {
     "name": "stderr",
     "output_type": "stream",
     "text": [
      "c:\\Users\\diego\\miniconda3\\envs\\DataSci_L7\\Lib\\site-packages\\thinc\\shims\\pytorch.py:114: FutureWarning: `torch.cuda.amp.autocast(args...)` is deprecated. Please use `torch.amp.autocast('cuda', args...)` instead.\n",
      "  with torch.cuda.amp.autocast(self._mixed_precision):\n"
     ]
    }
   ],
   "source": [
    "# aplicar la limpieza y lematización\n",
    "traficogt_df['clean_tweet'] = traficogt_df['rawContent'].apply(clean_and_lemmatize_text)\n",
    "\n",
    "# Convertir los usernames a minúsculas\n",
    "traficogt_df['user'] = traficogt_df['user'].str.lower()\n",
    "traficogt_df['mentionedUsers'] = traficogt_df['mentionedUsers'].str.lower()\n",
    "traficogt_df['inReplyToUser'] = traficogt_df['inReplyToUser'].str.lower()\n",
    "traficogt_df['hashtags'] = traficogt_df['hashtags'].str.lower()"
   ]
  },
  {
   "cell_type": "code",
   "execution_count": 35,
   "metadata": {},
   "outputs": [
    {
     "data": {
      "text/html": [
       "<div>\n",
       "<style scoped>\n",
       "    .dataframe tbody tr th:only-of-type {\n",
       "        vertical-align: middle;\n",
       "    }\n",
       "\n",
       "    .dataframe tbody tr th {\n",
       "        vertical-align: top;\n",
       "    }\n",
       "\n",
       "    .dataframe thead th {\n",
       "        text-align: right;\n",
       "    }\n",
       "</style>\n",
       "<table border=\"1\" class=\"dataframe\">\n",
       "  <thead>\n",
       "    <tr style=\"text-align: right;\">\n",
       "      <th></th>\n",
       "      <th>rawContent</th>\n",
       "      <th>clean_tweet</th>\n",
       "    </tr>\n",
       "  </thead>\n",
       "  <tbody>\n",
       "    <tr>\n",
       "      <th>0</th>\n",
       "      <td>Es comprensible la resolución... El ruso sabe de engrasar maquinaria.</td>\n",
       "      <td>comprensible resolucion ruso saber engrasar maquinaria</td>\n",
       "    </tr>\n",
       "    <tr>\n",
       "      <th>1</th>\n",
       "      <td>La corrupción de la @CC_Guatemala\\nes descarada, falsificación de documentos y obligaron a extenderles DPI.\\nhttps://t.co/0J24ZCXJ2c</td>\n",
       "      <td>corrupcion descarado falsificacion documento obligar extender dpi</td>\n",
       "    </tr>\n",
       "    <tr>\n",
       "      <th>2</th>\n",
       "      <td>@PNCdeGuatemala @mingobguate @FJimenezmingob @diegoedeleon @amilcarmontejo @traficogt \\n\\n🚨🚨🚨🚨🚨</td>\n",
       "      <td></td>\n",
       "    </tr>\n",
       "    <tr>\n",
       "      <th>3</th>\n",
       "      <td>@amilcarmontejo @AztecaNoticiaGT @BancadaSemilla @BArevalodeLeon @diputadojp @EmisorasUnidas @eP_investiga @ImpactoNoticiGT @lahoragt @mingobguate @PrensaComunitar @Transito_mixco @DGTguate @PMT_VILLANUEVA @InfoTransitoGt @traficogt @PMT_SanJuanSac @PMTSanLucasSac @YenerPlaza</td>\n",
       "      <td></td>\n",
       "    </tr>\n",
       "    <tr>\n",
       "      <th>4</th>\n",
       "      <td>@soy_502 @AztecaNoticiaGT @CONAPgt @DenunciaEMPAGUA @muniguate @GuatemalaGob @Guatevision_tv @pattyo502 @karinapazGt @Josechic86 @vecinosz16 URGENTE zona 16 en deterioro por  tala inmoderada, el tráfico es desesperante @traficogt @EmisorasUnidas @eP_investiga @IsaPaiz_</td>\n",
       "      <td>urgente zona deterioro tala inmoderado trafico desesperante</td>\n",
       "    </tr>\n",
       "  </tbody>\n",
       "</table>\n",
       "</div>"
      ],
      "text/plain": [
       "                                                                                                                                                                                                                                                                             rawContent  \\\n",
       "0                                                                                                                                                                                                                 Es comprensible la resolución... El ruso sabe de engrasar maquinaria.   \n",
       "1                                                                                                                                                  La corrupción de la @CC_Guatemala\\nes descarada, falsificación de documentos y obligaron a extenderles DPI.\\nhttps://t.co/0J24ZCXJ2c   \n",
       "2                                                                                                                                                                                       @PNCdeGuatemala @mingobguate @FJimenezmingob @diegoedeleon @amilcarmontejo @traficogt \\n\\n🚨🚨🚨🚨🚨   \n",
       "3  @amilcarmontejo @AztecaNoticiaGT @BancadaSemilla @BArevalodeLeon @diputadojp @EmisorasUnidas @eP_investiga @ImpactoNoticiGT @lahoragt @mingobguate @PrensaComunitar @Transito_mixco @DGTguate @PMT_VILLANUEVA @InfoTransitoGt @traficogt @PMT_SanJuanSac @PMTSanLucasSac @YenerPlaza   \n",
       "4         @soy_502 @AztecaNoticiaGT @CONAPgt @DenunciaEMPAGUA @muniguate @GuatemalaGob @Guatevision_tv @pattyo502 @karinapazGt @Josechic86 @vecinosz16 URGENTE zona 16 en deterioro por  tala inmoderada, el tráfico es desesperante @traficogt @EmisorasUnidas @eP_investiga @IsaPaiz_   \n",
       "\n",
       "                                                         clean_tweet  \n",
       "0             comprensible resolucion ruso saber engrasar maquinaria  \n",
       "1  corrupcion descarado falsificacion documento obligar extender dpi  \n",
       "2                                                                     \n",
       "3                                                                     \n",
       "4        urgente zona deterioro tala inmoderado trafico desesperante  "
      ]
     },
     "metadata": {},
     "output_type": "display_data"
    }
   ],
   "source": [
    "# Mostrar las primeras filas del dataset después de la limpieza\n",
    "pd.set_option('display.max_colwidth', None)\n",
    "display(traficogt_df[['rawContent', 'clean_tweet']].head())\n",
    "pd.reset_option('display.max_colwidth')"
   ]
  },
  {
   "cell_type": "code",
   "execution_count": 36,
   "metadata": {},
   "outputs": [
    {
     "data": {
      "text/html": [
       "<div>\n",
       "<style scoped>\n",
       "    .dataframe tbody tr th:only-of-type {\n",
       "        vertical-align: middle;\n",
       "    }\n",
       "\n",
       "    .dataframe tbody tr th {\n",
       "        vertical-align: top;\n",
       "    }\n",
       "\n",
       "    .dataframe thead th {\n",
       "        text-align: right;\n",
       "    }\n",
       "</style>\n",
       "<table border=\"1\" class=\"dataframe\">\n",
       "  <thead>\n",
       "    <tr style=\"text-align: right;\">\n",
       "      <th></th>\n",
       "      <th>tweet_id</th>\n",
       "      <th>usuario</th>\n",
       "      <th>tweet</th>\n",
       "      <th>tweet_limpio</th>\n",
       "      <th>fecha</th>\n",
       "      <th>usuarios_mencionados</th>\n",
       "      <th>respuesta_a_usuario</th>\n",
       "      <th>respuesta_a_tweet</th>\n",
       "      <th>hashtags</th>\n",
       "    </tr>\n",
       "  </thead>\n",
       "  <tbody>\n",
       "    <tr>\n",
       "      <th>0</th>\n",
       "      <td>1834236045598056867</td>\n",
       "      <td>traficogt</td>\n",
       "      <td>Es comprensible la resolución... El ruso sabe ...</td>\n",
       "      <td>comprensible resolucion ruso saber engrasar ma...</td>\n",
       "      <td>2024-09-12 14:22:06+00:00</td>\n",
       "      <td>no aplica</td>\n",
       "      <td>no aplica</td>\n",
       "      <td>no aplica</td>\n",
       "      <td>no aplica</td>\n",
       "    </tr>\n",
       "    <tr>\n",
       "      <th>1</th>\n",
       "      <td>1834029142565658846</td>\n",
       "      <td>monymmorales</td>\n",
       "      <td>La corrupción de la @CC_Guatemala\\nes descarad...</td>\n",
       "      <td>corrupcion descarado falsificacion documento o...</td>\n",
       "      <td>2024-09-12 00:39:56+00:00</td>\n",
       "      <td>cc_guatemala</td>\n",
       "      <td>no aplica</td>\n",
       "      <td>no aplica</td>\n",
       "      <td>no aplica</td>\n",
       "    </tr>\n",
       "    <tr>\n",
       "      <th>2</th>\n",
       "      <td>1834039491826180424</td>\n",
       "      <td>animaldgalaccia</td>\n",
       "      <td>@PNCdeGuatemala @mingobguate @FJimenezmingob @...</td>\n",
       "      <td></td>\n",
       "      <td>2024-09-12 01:21:04+00:00</td>\n",
       "      <td>pncdeguatemala, mingobguate, fjimenezmingob, d...</td>\n",
       "      <td>pncdeguatemala</td>\n",
       "      <td>no aplica</td>\n",
       "      <td>no aplica</td>\n",
       "    </tr>\n",
       "    <tr>\n",
       "      <th>3</th>\n",
       "      <td>1833963729136091179</td>\n",
       "      <td>estaciondoblea</td>\n",
       "      <td>@amilcarmontejo @AztecaNoticiaGT @BancadaSemil...</td>\n",
       "      <td></td>\n",
       "      <td>2024-09-11 20:20:01+00:00</td>\n",
       "      <td>amilcarmontejo, aztecanoticiagt, bancadasemill...</td>\n",
       "      <td>estaciondoblea</td>\n",
       "      <td>1833963727575781632</td>\n",
       "      <td>no aplica</td>\n",
       "    </tr>\n",
       "    <tr>\n",
       "      <th>4</th>\n",
       "      <td>1833665391698092330</td>\n",
       "      <td>cubreserva</td>\n",
       "      <td>@soy_502 @AztecaNoticiaGT @CONAPgt @DenunciaEM...</td>\n",
       "      <td>urgente zona deterioro tala inmoderado trafico...</td>\n",
       "      <td>2024-09-11 00:34:31+00:00</td>\n",
       "      <td>soy_502, aztecanoticiagt, conapgt, denunciaemp...</td>\n",
       "      <td>cubreserva</td>\n",
       "      <td>1833664431084949760</td>\n",
       "      <td>no aplica</td>\n",
       "    </tr>\n",
       "  </tbody>\n",
       "</table>\n",
       "</div>"
      ],
      "text/plain": [
       "              tweet_id          usuario  \\\n",
       "0  1834236045598056867        traficogt   \n",
       "1  1834029142565658846     monymmorales   \n",
       "2  1834039491826180424  animaldgalaccia   \n",
       "3  1833963729136091179   estaciondoblea   \n",
       "4  1833665391698092330       cubreserva   \n",
       "\n",
       "                                               tweet  \\\n",
       "0  Es comprensible la resolución... El ruso sabe ...   \n",
       "1  La corrupción de la @CC_Guatemala\\nes descarad...   \n",
       "2  @PNCdeGuatemala @mingobguate @FJimenezmingob @...   \n",
       "3  @amilcarmontejo @AztecaNoticiaGT @BancadaSemil...   \n",
       "4  @soy_502 @AztecaNoticiaGT @CONAPgt @DenunciaEM...   \n",
       "\n",
       "                                        tweet_limpio  \\\n",
       "0  comprensible resolucion ruso saber engrasar ma...   \n",
       "1  corrupcion descarado falsificacion documento o...   \n",
       "2                                                      \n",
       "3                                                      \n",
       "4  urgente zona deterioro tala inmoderado trafico...   \n",
       "\n",
       "                      fecha  \\\n",
       "0 2024-09-12 14:22:06+00:00   \n",
       "1 2024-09-12 00:39:56+00:00   \n",
       "2 2024-09-12 01:21:04+00:00   \n",
       "3 2024-09-11 20:20:01+00:00   \n",
       "4 2024-09-11 00:34:31+00:00   \n",
       "\n",
       "                                usuarios_mencionados respuesta_a_usuario  \\\n",
       "0                                          no aplica           no aplica   \n",
       "1                                       cc_guatemala           no aplica   \n",
       "2  pncdeguatemala, mingobguate, fjimenezmingob, d...      pncdeguatemala   \n",
       "3  amilcarmontejo, aztecanoticiagt, bancadasemill...      estaciondoblea   \n",
       "4  soy_502, aztecanoticiagt, conapgt, denunciaemp...          cubreserva   \n",
       "\n",
       "     respuesta_a_tweet   hashtags  \n",
       "0            no aplica  no aplica  \n",
       "1            no aplica  no aplica  \n",
       "2            no aplica  no aplica  \n",
       "3  1833963727575781632  no aplica  \n",
       "4  1833664431084949760  no aplica  "
      ]
     },
     "metadata": {},
     "output_type": "display_data"
    }
   ],
   "source": [
    "new_names = {\n",
    "    'id': 'tweet_id',\n",
    "    'user': 'usuario',\n",
    "    'date': 'fecha',\n",
    "    'mentionedUsers': 'usuarios_mencionados',\n",
    "    'inReplyToUser': 'respuesta_a_usuario',\n",
    "    'inReplyToTweetId': 'respuesta_a_tweet',\n",
    "    'hashtags': 'hashtags',\n",
    "    'rawContent': 'tweet',\n",
    "    'clean_tweet': 'tweet_limpio'\n",
    "}\n",
    "\n",
    "# Renombrar las columnas del DataFrame 'traficogt'\n",
    "traficogt_df = traficogt_df.rename(columns=new_names)\n",
    "traficogt_df = traficogt_df[['tweet_id', 'usuario', 'tweet', 'tweet_limpio', 'fecha', 'usuarios_mencionados', 'respuesta_a_usuario', 'respuesta_a_tweet', 'hashtags']]\n",
    "\n",
    "# Mostrar las primeras filas del DataFrame\n",
    "display(traficogt_df.head())"
   ]
  },
  {
   "cell_type": "markdown",
   "metadata": {},
   "source": [
    "Después de aplicar la limpieza y normalización a los tweets, ahora se cuenta con un conjunto de datos donde el contenido ha sido depurado de elementos irrelevantes como URLs, menciones, hashtags, saltos de línea, tabulaciones y caracteres especiales. Además, las stopwords han sido eliminadas y el texto ha sido lematizado para asegurar que las palabras clave estén en su forma base. Esta transformación permite analizar de manera más eficiente los temas recurrentes en relación con el tráfico y la temporada de lluvias. Sin embargo, también se observó que algunos tweets, debido a que consisten únicamente en menciones de otros usuarios o emojis, quedaron completamente vacíos tras la limpieza, ya que no contenían texto relevante que pudiese aportar valor al análisis. Sin embargo estos registros no seran eliminados pues pueden ser de utilidad para el analisis de redes e interacciones entre usuarios."
   ]
  },
  {
   "cell_type": "markdown",
   "metadata": {},
   "source": [
    "## Análisis Exploratorio"
   ]
  },
  {
   "cell_type": "markdown",
   "metadata": {},
   "source": [
    "#### Menciones y Respuestas"
   ]
  },
  {
   "cell_type": "code",
   "execution_count": 37,
   "metadata": {},
   "outputs": [
    {
     "name": "stdout",
     "output_type": "stream",
     "text": [
      "La cantidad de tweets con menciones es: 4485\n",
      "La cantidad de tweets con respuestas es: 4149\n"
     ]
    }
   ],
   "source": [
    "# Cantidad de tweets con menciones y respuestas\n",
    "num_tweets_con_menciones = traficogt_df['usuarios_mencionados'].apply(lambda x: x != 'no aplica').sum()\n",
    "num_tweets_con_respuestas = traficogt_df['respuesta_a_usuario'].apply(lambda x: x != 'no aplica').sum()\n",
    "\n",
    "# Mostrar la cantidad de tweets con menciones y respuestas\n",
    "print(f\"La cantidad de tweets con menciones es: {num_tweets_con_menciones}\")\n",
    "print(f\"La cantidad de tweets con respuestas es: {num_tweets_con_respuestas}\")"
   ]
  },
  {
   "cell_type": "markdown",
   "metadata": {},
   "source": [
    "En el análisis de menciones y respuestas, se identificó que de los **5601** tweets totales, **4485** contienen menciones a otros usuarios, lo que indica un alto nivel de interacción entre los participantes. Además, **4149** tweets fueron respuestas directas a otros usuarios, lo que refleja una gran cantidad de conversaciones y discusiones relacionadas con el tráfico en la ciudad, lo que podría sugerir que los usuarios utilizan esta plataforma para intercambiar información y opiniones en tiempo real."
   ]
  },
  {
   "cell_type": "code",
   "execution_count": 38,
   "metadata": {},
   "outputs": [
    {
     "name": "stdout",
     "output_type": "stream",
     "text": [
      "Usuarios más mencionados:\n",
      "  - traficogt: 4241 menciones\n",
      "  - barevalodeleon: 432 menciones\n",
      "  - drgiammattei: 175 menciones\n",
      "  - amilcarmontejo: 166 menciones\n",
      "  - prensacomunitar: 162 menciones\n"
     ]
    }
   ],
   "source": [
    "# Usuarios más mencionados\n",
    "menciones = traficogt_df['usuarios_mencionados'].apply(lambda x: '' if x == 'no aplica' else x).str.cat(sep=', ').split(', ')\n",
    "usuarios_mencionados_frecuentes = Counter([mencion.strip() for mencion in menciones if mencion])\n",
    "\n",
    "# Mostrar los 5 usuarios más mencionados\n",
    "print(f\"Usuarios más mencionados:\")\n",
    "for usuario, frecuencia in usuarios_mencionados_frecuentes.most_common(5):\n",
    "    print(f\"  - {usuario}: {frecuencia} menciones\")"
   ]
  },
  {
   "cell_type": "markdown",
   "metadata": {},
   "source": [
    "En cuanto a los usuarios más mencionados, `@traficogt` lidera con una abrumadora cantidad de 4241 menciones, lo que no sorprende dado que de este usuario fue que se extrajo la data de tweets. Otros usuarios relevantes incluyen `@barevalodeleon` con 432 menciones, seguido de figuras públicas como `@drgiammattei` y cuentas relacionadas con el tráfico, como `@amilcarmontejo` y `@prensacomunitar`, con 175, 166, y 162 menciones respectivamente."
   ]
  },
  {
   "cell_type": "markdown",
   "metadata": {},
   "source": [
    "#### Análisis básico"
   ]
  },
  {
   "cell_type": "code",
   "execution_count": 39,
   "metadata": {},
   "outputs": [
    {
     "name": "stdout",
     "output_type": "stream",
     "text": [
      "\n",
      "Hashtags más frecuentes:\n",
      "  - ahora: 30 menciones\n",
      "  - guatemala: 25 menciones\n",
      "  - ahoralh: 19 menciones\n",
      "  - urgente: 16 menciones\n",
      "  - traficogt: 16 menciones\n"
     ]
    }
   ],
   "source": [
    "# Hashtags más frecuentes\n",
    "hashtags = traficogt_df['hashtags'].apply(lambda x: '' if x == 'no aplica' else x).str.cat(sep=', ').split(', ')\n",
    "hashtags_frecuentes = Counter([hashtag.strip() for hashtag in hashtags if hashtag])\n",
    "\n",
    "# Mostrar los 5 hashtags más frecuentes\n",
    "print(f\"\\nHashtags más frecuentes:\")\n",
    "for hashtag, frecuencia in hashtags_frecuentes.most_common(5):\n",
    "    print(f\"  - {hashtag}: {frecuencia} menciones\")"
   ]
  },
  {
   "cell_type": "markdown",
   "metadata": {},
   "source": [
    "El análisis de los hashtags más frecuentes revela que el uso de estos está menos concentrado que las menciones. El hashtag `#ahora` aparece como el más utilizado con 30 menciones, seguido por `#guatemala` con 25 menciones, lo que refleja un enfoque local en los eventos reportados. Otros hashtags notables incluyen `#ahoralh`, `#urgente` y `#traficogt`, mostrando que los usuarios destacan eventos actuales y urgentes en sus publicaciones."
   ]
  },
  {
   "cell_type": "code",
   "execution_count": 40,
   "metadata": {},
   "outputs": [
    {
     "name": "stdout",
     "output_type": "stream",
     "text": [
      "\n",
      "La cantidad de tweets es: 5601\n",
      "La cantidad de usuarios únicos es: 2072\n"
     ]
    }
   ],
   "source": [
    "# Cantidad de tweets con respuestas a otros tweets\n",
    "num_tweets = len(traficogt_df)\n",
    "usuarios_unicos = traficogt_df['usuario'].nunique()\n",
    "\n",
    "# Mostrar la cantidad de tweets y usuarios únicos\n",
    "print(f\"\\nLa cantidad de tweets es: {num_tweets}\")\n",
    "print(f\"La cantidad de usuarios únicos es: {usuarios_unicos}\")"
   ]
  },
  {
   "cell_type": "markdown",
   "metadata": {},
   "source": [
    "Se observó que en el conjunto de datos analizado, que incluye **5601** tweets, participaron **2072** usuarios únicos. Esto sugiere una comunidad activa y relativamente diversa que comparte información sobre el tráfico. A pesar de que algunos usuarios son mencionados con frecuencia, como se vio en secciones anteriores, hay una amplia variedad de usuarios que participan en la discusión."
   ]
  },
  {
   "cell_type": "markdown",
   "metadata": {},
   "source": [
    "#### Nube de palabras para el contenido limpio"
   ]
  },
  {
   "cell_type": "code",
   "execution_count": 41,
   "metadata": {},
   "outputs": [
    {
     "data": {
      "image/png": "[encoded data removed]",
      "text/plain": [
       "<Figure size 1000x500 with 1 Axes>"
      ]
     },
     "metadata": {},
     "output_type": "display_data"
    }
   ],
   "source": [
    "# Generar un WordCloud con las palabras más frecuentes en los tweets limpios\n",
    "text = ' '.join(traficogt_df['tweet_limpio'].dropna().values)\n",
    "wordcloud = WordCloud(width=800, height=400, background_color=\"white\").generate(text)\n",
    "\n",
    "# Mostrar la nube de palabras\n",
    "plt.figure(figsize=(10, 5))\n",
    "plt.imshow(wordcloud, interpolation='bilinear')\n",
    "plt.axis('off')\n",
    "plt.show()"
   ]
  },
  {
   "cell_type": "markdown",
   "metadata": {},
   "source": [
    "La nube de palabras generada a partir de los tweets limpios destaca las palabras más frecuentes en las discusiones sobre el tráfico. Términos como **tráfico**, **carretera**, y **accidente** aparecen recurrentemente, reflejando los temas principales que afectan a los conductores en la ciudad. Sin embargo, palabras mas comunes como `ir`, `solo`, `hacer`, `si` son las que aparecen con un mayor tamaño. \n",
    "Cabe destacar que hay varias palabras relacionados al gobierno e instituciones publicas como `MP` (Ministerio Publico) o `CC` (Corte de Constitucionalidad), tambien esta destacada `corrupto`."
   ]
  },
  {
   "cell_type": "markdown",
   "metadata": {},
   "source": [
    "#### Análisis Detallado"
   ]
  },
  {
   "cell_type": "code",
   "execution_count": 42,
   "metadata": {},
   "outputs": [
    {
     "data": {
      "image/png": "[encoded data removed]",
      "text/plain": [
       "<Figure size 1000x600 with 1 Axes>"
      ]
     },
     "metadata": {},
     "output_type": "display_data"
    }
   ],
   "source": [
    "# 1. Distribución temporal de los tweets (agrupados por hora del día)\n",
    "traficogt_df['hora'] = traficogt_df['fecha'].dt.hour\n",
    "\n",
    "# Contar el número de tweets por hora\n",
    "tweets_por_hora = traficogt_df.groupby('hora').size()\n",
    "\n",
    "# Gráfico de barras para mostrar la distribución de tweets a lo largo del día\n",
    "plt.figure(figsize=(10, 6))\n",
    "sns.barplot(x=tweets_por_hora.index, y=tweets_por_hora.values)\n",
    "plt.title('Distribución de Tweets a lo Largo del Día')\n",
    "plt.xlabel('Hora del Día')\n",
    "plt.ylabel('Número de Tweets')\n",
    "plt.xticks(rotation=0)\n",
    "plt.show()"
   ]
  },
  {
   "cell_type": "markdown",
   "metadata": {},
   "source": [
    "El análisis de la distribución temporal de los tweets mostró que la actividad de los usuarios se concentra principalmente en ciertas horas del día. Los picos más altos de actividad coinciden con las horas pico de tráfico, lo que sugiere que los usuarios son más propensos a reportar problemas de tráfico durante esos momentos. Asimismo, hay horas del dia en las que se asume las personas ya se encuentran en casa y tienen el tiempo libre de hablar respecto al trafico, como a altas horas de la noche o en la madrugada."
   ]
  },
  {
   "cell_type": "code",
   "execution_count": 43,
   "metadata": {},
   "outputs": [
    {
     "name": "stdout",
     "output_type": "stream",
     "text": [
      "Usuarios más mencionados en tweets con hashtags específicos:\n",
      "  - traficogt: 20 menciones en tweets con el hashtag: guatemala\n",
      "  - traficogt: 16 menciones en tweets con el hashtag: traficogt\n",
      "  - amilcarmontejo: 7 menciones en tweets con el hashtag: guatemala\n",
      "  - amilcarmontejo: 7 menciones en tweets con el hashtag: tráfico\n",
      "  - traficogt: 7 menciones en tweets con el hashtag: tráfico\n",
      "  - amilcarmontejo: 6 menciones en tweets con el hashtag: traficogt\n",
      "  - traficogt: 6 menciones en tweets con el hashtag: transitogt\n",
      "  - amilcarmontejo: 6 menciones en tweets con el hashtag: transmetro\n",
      "  - traficogt: 6 menciones en tweets con el hashtag: transmetro\n",
      "  - rquinonezl: 6 menciones en tweets con el hashtag: tráfico\n"
     ]
    }
   ],
   "source": [
    "# Usuarios mencionados en tweets con hashtags específicos (ignorando \"no aplica\")\n",
    "tweets_con_menciones_y_hashtags = traficogt_df[(traficogt_df['usuarios_mencionados'] != 'no aplica') & (traficogt_df['hashtags'] != 'no aplica')]\n",
    "\n",
    "# Crear una lista de pares (usuario, hashtag) para analizar la relación entre ambos\n",
    "usuarios_hashtags = []\n",
    "for idx, row in tweets_con_menciones_y_hashtags.iterrows():\n",
    "    usuarios = row['usuarios_mencionados'].split(', ')\n",
    "    hashtags = row['hashtags'].split(', ')\n",
    "    for usuario in usuarios:\n",
    "        for hashtag in hashtags:\n",
    "            usuarios_hashtags.append((usuario.strip(), hashtag.strip()))\n",
    "\n",
    "# Contar la frecuencia de menciones por usuario y hashtag\n",
    "usuarios_hashtags_contador = Counter(usuarios_hashtags)\n",
    "\n",
    "# Mostrar los usuarios más mencionados en tweets con hashtags específicos\n",
    "print(\"Usuarios más mencionados en tweets con hashtags específicos:\")\n",
    "for (usuario, hashtag), frecuencia in usuarios_hashtags_contador.most_common(10):\n",
    "    print(f\"  - {usuario}: {frecuencia} menciones en tweets con el hashtag: {hashtag}\")"
   ]
  },
  {
   "cell_type": "markdown",
   "metadata": {},
   "source": [
    "Al analizar los usuarios más mencionados en tweets con hashtags específicos, se encontró que `@traficogt` y `@amilcarmontejo` son los usuarios más asociados a hashtags como **#guatemala**, **#trafico**, y **#transmetro**. Estos usuarios juegan un papel importante en las discusiones sobre el tráfico en la ciudad y su interacción con estos hashtags sugiere que son fuentes clave de información para otros usuarios en esos contextos."
   ]
  },
  {
   "cell_type": "code",
   "execution_count": 44,
   "metadata": {},
   "outputs": [],
   "source": [
    "# Filtrar los tweets que contienen una palabra clave\n",
    "def filter_tweets_by_keyword(df, palabra_clave):\n",
    "    tweets_con_palabra_clave = df[df['tweet_limpio'].str.contains(palabra_clave, case=False, na=False)]\n",
    "\n",
    "    # Contar cuántas veces se menciona a los usuarios en estos tweets\n",
    "    usuarios_mencionados_palabra_clave = []\n",
    "    for idx, row in tweets_con_palabra_clave.iterrows():\n",
    "        usuarios = row['usuarios_mencionados'].split(', ')\n",
    "        for usuario in usuarios:\n",
    "            usuarios_mencionados_palabra_clave.append(usuario.strip())\n",
    "\n",
    "    # Contar la frecuencia de usuarios mencionados en tweets con la palabra clave\n",
    "    usuarios_palabra_clave_contador = Counter(usuarios_mencionados_palabra_clave)\n",
    "\n",
    "    # Mostrar los usuarios más mencionados en tweets con la palabra clave\n",
    "    print(f\"\\nUsuarios más mencionados en tweets con la palabra clave '{palabra_clave}':\")\n",
    "    for usuario, frecuencia in usuarios_palabra_clave_contador.most_common(5):\n",
    "        print(f\"  - {usuario}: {frecuencia} menciones\")"
   ]
  },
  {
   "cell_type": "code",
   "execution_count": 45,
   "metadata": {},
   "outputs": [
    {
     "name": "stdout",
     "output_type": "stream",
     "text": [
      "\n",
      "Usuarios más mencionados en tweets con la palabra clave 'lluvia':\n",
      "  - traficogt: 6 menciones\n",
      "  - pmt_villanueva: 1 menciones\n",
      "  - muniguate: 1 menciones\n",
      "  - munimixco_: 1 menciones\n",
      "  - ronald_mackay: 1 menciones\n"
     ]
    }
   ],
   "source": [
    "# Usuarios mencionados en tweets con palabras clave específicas\n",
    "tweets_con_menciones_y_tweet_limpio = traficogt_df[(traficogt_df['usuarios_mencionados'] != 'no aplica') & (traficogt_df['tweet_limpio'] != '')]\n",
    "\n",
    "filter_tweets_by_keyword(tweets_con_menciones_y_tweet_limpio, \"lluvia\")"
   ]
  },
  {
   "cell_type": "markdown",
   "metadata": {},
   "source": [
    "En relación con la palabra clave \"**lluvia**\", se identificó que `@traficogt` fue el usuario más mencionado, con 6 menciones, mientras que otras cuentas como `@pmt_villanueva`, `@muniguate`, y `@munimixco_` fueron mencionadas de manera esporádica. Esto indica que `@traficogt` sigue siendo la fuente principal de información, incluso cuando las discusiones giran en torno a problemas causados por la lluvia. Aunque la aparicion de las municipalidades y policia de transito indica que puede existir disgustos por el estado de las vias."
   ]
  },
  {
   "cell_type": "code",
   "execution_count": 46,
   "metadata": {},
   "outputs": [
    {
     "name": "stdout",
     "output_type": "stream",
     "text": [
      "\n",
      "Usuarios más mencionados en tweets con la palabra clave 'trafico':\n",
      "  - traficogt: 119 menciones\n",
      "  - amilcarmontejo: 41 menciones\n",
      "  - muniguate: 18 menciones\n",
      "  - pmtmuniguate: 12 menciones\n",
      "  - rquinonezl: 11 menciones\n"
     ]
    }
   ],
   "source": [
    "filter_tweets_by_keyword(tweets_con_menciones_y_tweet_limpio, \"trafico\")"
   ]
  },
  {
   "cell_type": "markdown",
   "metadata": {},
   "source": [
    "En cuanto a la palabra clave \"**tráfico**\", los usuarios más mencionados fueron `@traficogt` con 119 menciones, seguido de `@amilcarmontejo` con 41 menciones. También destacan otras cuentas institucionales como `@muniguate` y `@pmtmuniguate`, que fueron mencionadas en un contexto relacionado con el manejo del tráfico, lo que refuerza la idea de que estas cuentas son vistas como autoridades o fuentes clave en temas de movilidad."
   ]
  },
  {
   "cell_type": "code",
   "execution_count": 47,
   "metadata": {},
   "outputs": [
    {
     "name": "stdout",
     "output_type": "stream",
     "text": [
      "\n",
      "Número de tweets vacíos tras la limpieza: 382\n",
      "Porcentaje de tweets vacíos: 6.82%\n"
     ]
    }
   ],
   "source": [
    "# tweets vacíos tras la limpieza\n",
    "tweets_vacios = traficogt_df[traficogt_df['tweet_limpio'] == '']\n",
    "num_tweets_vacios = len(tweets_vacios)\n",
    "porcentaje_tweets_vacios = (num_tweets_vacios / len(traficogt_df)) * 100\n",
    "\n",
    "print(f\"\\nNúmero de tweets vacíos tras la limpieza: {num_tweets_vacios}\")\n",
    "print(f\"Porcentaje de tweets vacíos: {porcentaje_tweets_vacios:.2f}%\")"
   ]
  },
  {
   "cell_type": "markdown",
   "metadata": {},
   "source": [
    "Finalmente, el análisis de los tweets vacíos tras la limpieza reveló que un **6.82%** de los tweets quedaron sin contenido significativo, ya que estos consistían principalmente en menciones, emojis o caracteres especiales. Este porcentaje relativamente bajo sugiere que la mayoría de los tweets contenían información relevante relacionada con el tráfico, mientras que solo una pequeña fracción carecía de contenido textual."
   ]
  },
  {
   "cell_type": "markdown",
   "metadata": {},
   "source": [
    "#### Preguntas Interesantes"
   ]
  },
  {
   "cell_type": "markdown",
   "metadata": {},
   "source": [
    "##### ¿Qué usuarios son los más mencionados en tweets relacionados con el tráfico y en qué medida influyen en las discusiones?"
   ]
  },
  {
   "cell_type": "markdown",
   "metadata": {},
   "source": [
    "A partir del análisis de las menciones, se identificó que `@traficogt` es el usuario más mencionado, con **4241** menciones. Esto lo posiciona como una fuente clave de información y seguimiento de temas relacionados con el tráfico. Otros usuarios que influyen en las discusiones incluyen `@amilcarmontejo` con 166 menciones, y `@barevalodeleon` con 432 menciones. Estas cuentas, junto con `@drgiammattei` y `@prensacomunitar`, son mencionadas con frecuencia en temas de tráfico y, por lo tanto, juegan un papel importante en el intercambio de información entre usuarios de la plataforma."
   ]
  },
  {
   "cell_type": "markdown",
   "metadata": {},
   "source": [
    "##### ¿Cuáles son los hashtags más utilizados en relación con el tráfico en la ciudad y cómo se distribuyen entre los usuarios mencionados?"
   ]
  },
  {
   "cell_type": "markdown",
   "metadata": {},
   "source": [
    "Los hashtags más comunes utilizados en los tweets relacionados con el tráfico son `#guatemala`, `#trafico`, `#ahora`, y `#transmetro`. Estos hashtags están mayormente asociados a menciones de usuarios clave como **@traficogt** y **@amilcarmontejo**. Por ejemplo, **@traficogt** fue mencionado 20 veces en tweets que contenían el hashtag `#guatemala` y 16 veces con el hashtag `#traficogt`, mientras que **@amilcarmontejo** fue mencionado en múltiples ocasiones en tweets con los hashtags `#trafico` y `#transmetro`. Esto indica que estos usuarios son particularmente activos en temas relacionados con la movilidad en la ciudad y que sus publicaciones están vinculadas con la difusión de información sobre el tráfico."
   ]
  },
  {
   "cell_type": "markdown",
   "metadata": {},
   "source": [
    "##### ¿Qué relación existe entre los tweets con menciones y las palabras clave específicas como 'tráfico' y 'lluvia'?"
   ]
  },
  {
   "cell_type": "markdown",
   "metadata": {},
   "source": [
    "En los tweets que contienen la palabra \"tráfico\", **@traficogt** es el usuario más mencionado, con 119 menciones, seguido de **@amilcarmontejo** con 41 menciones. Esto sugiere que ambos usuarios son vistos como referencias importantes en temas de congestión vehicular. Por otro lado, en los tweets que contienen la palabra \"`lluvia`\", **@traficogt** vuelve a ser el más mencionado con 6 menciones, seguido de algunas cuentas institucionales como **@pmt_villanueva** y **@muniguate** con menciones esporádicas. Esto evidencia que **@traficogt** es el principal referente tanto en temas de tráfico como en problemas relacionados con la lluvia, consolidando su rol como una fuente clave de información en estas situaciones."
   ]
  }
 ],
 "metadata": {
  "kernelspec": {
   "display_name": "DataSci_L7",
   "language": "python",
   "name": "python3"
  },
  "language_info": {
   "codemirror_mode": {
    "name": "ipython",
    "version": 3
   },
   "file_extension": ".py",
   "mimetype": "text/x-python",
   "name": "python",
   "nbconvert_exporter": "python",
   "pygments_lexer": "ipython3",
   "version": "3.12.5"
  }
 },
 "nbformat": 4,
 "nbformat_minor": 2
}
